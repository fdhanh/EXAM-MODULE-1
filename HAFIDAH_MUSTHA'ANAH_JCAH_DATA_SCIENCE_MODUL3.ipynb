{
  "nbformat": 4,
  "nbformat_minor": 0,
  "metadata": {
    "colab": {
      "name": "HAFIDAH MUSTHA'ANAH_JCAH DATA SCIENCE_MODUL3.ipynb",
      "provenance": [],
      "collapsed_sections": [],
      "include_colab_link": true
    },
    "kernelspec": {
      "name": "python3",
      "display_name": "Python 3"
    }
  },
  "cells": [
    {
      "cell_type": "markdown",
      "metadata": {
        "id": "view-in-github",
        "colab_type": "text"
      },
      "source": [
        "<a href=\"https://colab.research.google.com/github/fdhanh/EXAM-PURWADHIKA/blob/master/HAFIDAH_MUSTHA'ANAH_JCAH_DATA_SCIENCE_MODUL3.ipynb\" target=\"_parent\"><img src=\"https://colab.research.google.com/assets/colab-badge.svg\" alt=\"Open In Colab\"/></a>"
      ]
    },
    {
      "cell_type": "markdown",
      "metadata": {
        "id": "WILFty4Pe1Le",
        "colab_type": "text"
      },
      "source": [
        "# Telecom Customer Churn"
      ]
    },
    {
      "cell_type": "markdown",
      "metadata": {
        "id": "2-0XhdEOe1Lf",
        "colab_type": "text"
      },
      "source": [
        "WELCOME TO EXAM MODULE 3! :) You're super great that you're here already. Now, buckle up!"
      ]
    },
    {
      "cell_type": "markdown",
      "metadata": {
        "id": "4rB0-tpBe1Lg",
        "colab_type": "text"
      },
      "source": [
        "Data yang digunakan pada exam ini adalah data Customer Churn dari suatu perusahaan telekomunikasi.\n",
        "\n",
        "Customer Churn adalah fenomena ketika customer pergi meninggalkan produk kita. Tentu kita tidak menginginkan customer untuk berhenti menggunakan produk kita, kan? \n",
        "\n",
        "Inilah tantangannya! Kita akan mencoba memprediksi apakah customer akan churn atau tidak. "
      ]
    },
    {
      "cell_type": "markdown",
      "metadata": {
        "id": "Bf1Y0XSIe1Li",
        "colab_type": "text"
      },
      "source": [
        "The data set includes information about:\n",
        "\n",
        "- Customers who left within the last month – the column is called Churn\n",
        "- Services that each customer has signed up for – phone, multiple lines, internet, online security, online backup, device protection, tech support, and streaming TV and movies\n",
        "- Customer account information – how long they’ve been a customer, contract, payment method, paperless billing, monthly charges, and total charges\n",
        "- Demographic info about customers – gender, age range, and if they have partners and dependents"
      ]
    },
    {
      "cell_type": "markdown",
      "metadata": {
        "id": "ZW519E8ae1Lj",
        "colab_type": "text"
      },
      "source": [
        "<b> Coloumns Descriptions  </b>\n",
        "- customerID = Customer ID\n",
        "- gender = Whether the customer is a male or a female\n",
        "- SeniorCitizen = Whether the customer is a senior citizen or not (1, 0)\n",
        "- Partner = Whether the customer has a partner or not (Yes, No)\n",
        "- Dependents = Whether the customer has dependents or not (Yes, No)\n",
        "- tenure = Number of months the customer has stayed with the company\n",
        "- PhoneService = Whether the customer has a phone service or not (Yes, No)\n",
        "- MultipleLines = Whether the customer has multiple lines or not (Yes, No, No phone service)\n",
        "- InternetService = Customer’s internet service provider (DSL, Fiber optic, No)\n",
        "- OnlineSecurity = Whether the customer has online security or not (Yes, No, No internet service)\n",
        "- OnlineBackup = Whether the customer has online backup or not (Yes, No, No internet service)\n",
        "- DeviceProtection = Whether the customer has device protection or not (Yes, No, No internet service)\n",
        "- TechSupport = Whether the customer has tech support or not (Yes, No, No internet service)\n",
        "- StreamingTV = Whether the customer has streaming TV or not (Yes, No, No internet service)\n",
        "- StreamingMovies = Whether the customer has streaming movies or not (Yes, No, No internet service)\n",
        "- Contract = The contract term of the customer (Month-to-month, One year, Two year)\n",
        "- PaperlessBilling = Whether the customer has paperless billing or not (Yes, No)\n",
        "- PaymentMethod = The customer’s payment method (Electronic check, Mailed check, Bank transfer (automatic), Credit card (automatic))\n",
        "- MonthlyCharges = The amount charged to the customer monthly\n",
        "- TotalCharges = The total amount charged to the customer\n",
        "- Churn = Whether the customer churned or not (Yes or No)"
      ]
    },
    {
      "cell_type": "markdown",
      "metadata": {
        "id": "Y43g08_xe1Lk",
        "colab_type": "text"
      },
      "source": [
        "In this exam, the maximum point is 100 with the criterion is shown below:\n",
        "- Q1 Data Preparation: 15 point\n",
        "- Q2 Data Visualization: 35 point\n",
        "- Q3 Classification Modelling: 20 point\n",
        "- Q4 Perbaikan Modelling: 30 point"
      ]
    },
    {
      "cell_type": "code",
      "metadata": {
        "ExecuteTime": {
          "end_time": "2020-03-15T16:44:31.874205Z",
          "start_time": "2020-03-15T16:44:30.830297Z"
        },
        "id": "aGpd3LEve1Lm",
        "colab_type": "code",
        "colab": {
          "base_uri": "https://localhost:8080/",
          "height": 72
        },
        "outputId": "c76a0dff-7956-4a91-db1f-57768a52b919"
      },
      "source": [
        "import pandas as pd\n",
        "import matplotlib.pyplot as plt\n",
        "import seaborn as sns\n",
        "import numpy as np"
      ],
      "execution_count": null,
      "outputs": [
        {
          "output_type": "stream",
          "text": [
            "/usr/local/lib/python3.6/dist-packages/statsmodels/tools/_testing.py:19: FutureWarning: pandas.util.testing is deprecated. Use the functions in the public API at pandas.testing instead.\n",
            "  import pandas.util.testing as tm\n"
          ],
          "name": "stderr"
        }
      ]
    },
    {
      "cell_type": "code",
      "metadata": {
        "ExecuteTime": {
          "end_time": "2020-03-15T16:44:31.901146Z",
          "start_time": "2020-03-15T16:44:31.875187Z"
        },
        "id": "DPlZSTBae1Ls",
        "colab_type": "code",
        "colab": {}
      },
      "source": [
        "df = pd.read_csv('/content/drive/My Drive/Data Science/Module 3/EXAM/Churn_ujian.csv')"
      ],
      "execution_count": null,
      "outputs": []
    },
    {
      "cell_type": "code",
      "metadata": {
        "ExecuteTime": {
          "end_time": "2020-03-15T16:44:31.922033Z",
          "start_time": "2020-03-15T16:44:31.902106Z"
        },
        "id": "pcyKjl18e1Lx",
        "colab_type": "code",
        "colab": {
          "base_uri": "https://localhost:8080/",
          "height": 309
        },
        "outputId": "38b7b1df-109a-4014-85c1-523a2008eb71"
      },
      "source": [
        "df.head()"
      ],
      "execution_count": null,
      "outputs": [
        {
          "output_type": "execute_result",
          "data": {
            "text/html": [
              "<div>\n",
              "<style scoped>\n",
              "    .dataframe tbody tr th:only-of-type {\n",
              "        vertical-align: middle;\n",
              "    }\n",
              "\n",
              "    .dataframe tbody tr th {\n",
              "        vertical-align: top;\n",
              "    }\n",
              "\n",
              "    .dataframe thead th {\n",
              "        text-align: right;\n",
              "    }\n",
              "</style>\n",
              "<table border=\"1\" class=\"dataframe\">\n",
              "  <thead>\n",
              "    <tr style=\"text-align: right;\">\n",
              "      <th></th>\n",
              "      <th>customerID</th>\n",
              "      <th>gender</th>\n",
              "      <th>SeniorCitizen</th>\n",
              "      <th>Partner</th>\n",
              "      <th>Dependents</th>\n",
              "      <th>tenure</th>\n",
              "      <th>PhoneService</th>\n",
              "      <th>MultipleLines</th>\n",
              "      <th>InternetService</th>\n",
              "      <th>OnlineSecurity</th>\n",
              "      <th>OnlineBackup</th>\n",
              "      <th>DeviceProtection</th>\n",
              "      <th>TechSupport</th>\n",
              "      <th>StreamingTV</th>\n",
              "      <th>StreamingMovies</th>\n",
              "      <th>Contract</th>\n",
              "      <th>PaperlessBilling</th>\n",
              "      <th>PaymentMethod</th>\n",
              "      <th>MonthlyCharges</th>\n",
              "      <th>TotalCharges</th>\n",
              "      <th>Churn</th>\n",
              "    </tr>\n",
              "  </thead>\n",
              "  <tbody>\n",
              "    <tr>\n",
              "      <th>0</th>\n",
              "      <td>7590-VHVEG</td>\n",
              "      <td>Female</td>\n",
              "      <td>0</td>\n",
              "      <td>Yes</td>\n",
              "      <td>No</td>\n",
              "      <td>1</td>\n",
              "      <td>No</td>\n",
              "      <td>No phone service</td>\n",
              "      <td>DSL</td>\n",
              "      <td>No</td>\n",
              "      <td>Yes</td>\n",
              "      <td>No</td>\n",
              "      <td>No</td>\n",
              "      <td>No</td>\n",
              "      <td>No</td>\n",
              "      <td>Month-to-month</td>\n",
              "      <td>Yes</td>\n",
              "      <td>Electronic check</td>\n",
              "      <td>29.85</td>\n",
              "      <td>29.85</td>\n",
              "      <td>No</td>\n",
              "    </tr>\n",
              "    <tr>\n",
              "      <th>1</th>\n",
              "      <td>5575-GNVDE</td>\n",
              "      <td>Male</td>\n",
              "      <td>0</td>\n",
              "      <td>No</td>\n",
              "      <td>No</td>\n",
              "      <td>34</td>\n",
              "      <td>Yes</td>\n",
              "      <td>No</td>\n",
              "      <td>DSL</td>\n",
              "      <td>Yes</td>\n",
              "      <td>No</td>\n",
              "      <td>Yes</td>\n",
              "      <td>No</td>\n",
              "      <td>No</td>\n",
              "      <td>No</td>\n",
              "      <td>One year</td>\n",
              "      <td>No</td>\n",
              "      <td>Mailed check</td>\n",
              "      <td>56.95</td>\n",
              "      <td>1889.5</td>\n",
              "      <td>No</td>\n",
              "    </tr>\n",
              "    <tr>\n",
              "      <th>2</th>\n",
              "      <td>3668-QPYBK</td>\n",
              "      <td>Male</td>\n",
              "      <td>0</td>\n",
              "      <td>No</td>\n",
              "      <td>No</td>\n",
              "      <td>2</td>\n",
              "      <td>Yes</td>\n",
              "      <td>No</td>\n",
              "      <td>DSL</td>\n",
              "      <td>Yes</td>\n",
              "      <td>Yes</td>\n",
              "      <td>No</td>\n",
              "      <td>No</td>\n",
              "      <td>No</td>\n",
              "      <td>No</td>\n",
              "      <td>Month-to-month</td>\n",
              "      <td>Yes</td>\n",
              "      <td>Mailed check</td>\n",
              "      <td>53.85</td>\n",
              "      <td>108.15</td>\n",
              "      <td>Yes</td>\n",
              "    </tr>\n",
              "    <tr>\n",
              "      <th>3</th>\n",
              "      <td>7795-CFOCW</td>\n",
              "      <td>Male</td>\n",
              "      <td>0</td>\n",
              "      <td>No</td>\n",
              "      <td>No</td>\n",
              "      <td>45</td>\n",
              "      <td>No</td>\n",
              "      <td>No phone service</td>\n",
              "      <td>DSL</td>\n",
              "      <td>Yes</td>\n",
              "      <td>No</td>\n",
              "      <td>Yes</td>\n",
              "      <td>Yes</td>\n",
              "      <td>No</td>\n",
              "      <td>No</td>\n",
              "      <td>One year</td>\n",
              "      <td>No</td>\n",
              "      <td>Bank transfer (automatic)</td>\n",
              "      <td>42.30</td>\n",
              "      <td>1840.75</td>\n",
              "      <td>No</td>\n",
              "    </tr>\n",
              "    <tr>\n",
              "      <th>4</th>\n",
              "      <td>9237-HQITU</td>\n",
              "      <td>Female</td>\n",
              "      <td>0</td>\n",
              "      <td>No</td>\n",
              "      <td>No</td>\n",
              "      <td>2</td>\n",
              "      <td>Yes</td>\n",
              "      <td>No</td>\n",
              "      <td>Fiber optic</td>\n",
              "      <td>No</td>\n",
              "      <td>No</td>\n",
              "      <td>No</td>\n",
              "      <td>No</td>\n",
              "      <td>No</td>\n",
              "      <td>No</td>\n",
              "      <td>Month-to-month</td>\n",
              "      <td>Yes</td>\n",
              "      <td>Electronic check</td>\n",
              "      <td>70.70</td>\n",
              "      <td>151.65</td>\n",
              "      <td>Yes</td>\n",
              "    </tr>\n",
              "  </tbody>\n",
              "</table>\n",
              "</div>"
            ],
            "text/plain": [
              "   customerID  gender  SeniorCitizen  ... MonthlyCharges TotalCharges  Churn\n",
              "0  7590-VHVEG  Female              0  ...          29.85        29.85     No\n",
              "1  5575-GNVDE    Male              0  ...          56.95       1889.5     No\n",
              "2  3668-QPYBK    Male              0  ...          53.85       108.15    Yes\n",
              "3  7795-CFOCW    Male              0  ...          42.30      1840.75     No\n",
              "4  9237-HQITU  Female              0  ...          70.70       151.65    Yes\n",
              "\n",
              "[5 rows x 21 columns]"
            ]
          },
          "metadata": {
            "tags": []
          },
          "execution_count": 5
        }
      ]
    },
    {
      "cell_type": "code",
      "metadata": {
        "ExecuteTime": {
          "end_time": "2020-03-15T16:44:31.937304Z",
          "start_time": "2020-03-15T16:44:31.923030Z"
        },
        "id": "gIXhJZ5qe1L3",
        "colab_type": "code",
        "colab": {
          "base_uri": "https://localhost:8080/",
          "height": 502
        },
        "outputId": "24bb6c72-82ff-4192-a3a4-b6a5c1363edd"
      },
      "source": [
        "df.info()"
      ],
      "execution_count": null,
      "outputs": [
        {
          "output_type": "stream",
          "text": [
            "<class 'pandas.core.frame.DataFrame'>\n",
            "RangeIndex: 7043 entries, 0 to 7042\n",
            "Data columns (total 21 columns):\n",
            " #   Column            Non-Null Count  Dtype  \n",
            "---  ------            --------------  -----  \n",
            " 0   customerID        7043 non-null   object \n",
            " 1   gender            7043 non-null   object \n",
            " 2   SeniorCitizen     7043 non-null   int64  \n",
            " 3   Partner           7043 non-null   object \n",
            " 4   Dependents        7043 non-null   object \n",
            " 5   tenure            7043 non-null   int64  \n",
            " 6   PhoneService      7043 non-null   object \n",
            " 7   MultipleLines     7043 non-null   object \n",
            " 8   InternetService   7043 non-null   object \n",
            " 9   OnlineSecurity    7043 non-null   object \n",
            " 10  OnlineBackup      7043 non-null   object \n",
            " 11  DeviceProtection  7043 non-null   object \n",
            " 12  TechSupport       7043 non-null   object \n",
            " 13  StreamingTV       7043 non-null   object \n",
            " 14  StreamingMovies   7043 non-null   object \n",
            " 15  Contract          7043 non-null   object \n",
            " 16  PaperlessBilling  7043 non-null   object \n",
            " 17  PaymentMethod     7043 non-null   object \n",
            " 18  MonthlyCharges    7043 non-null   float64\n",
            " 19  TotalCharges      7043 non-null   object \n",
            " 20  Churn             7043 non-null   object \n",
            "dtypes: float64(1), int64(2), object(18)\n",
            "memory usage: 1.1+ MB\n"
          ],
          "name": "stdout"
        }
      ]
    },
    {
      "cell_type": "code",
      "metadata": {
        "ExecuteTime": {
          "end_time": "2020-03-15T16:44:31.954497Z",
          "start_time": "2020-03-15T16:44:31.938565Z"
        },
        "id": "UWqgtl1le1L7",
        "colab_type": "code",
        "colab": {
          "base_uri": "https://localhost:8080/",
          "height": 294
        },
        "outputId": "6bc155c0-7706-472f-f1c0-2ad747fd983a"
      },
      "source": [
        "df.describe()"
      ],
      "execution_count": null,
      "outputs": [
        {
          "output_type": "execute_result",
          "data": {
            "text/html": [
              "<div>\n",
              "<style scoped>\n",
              "    .dataframe tbody tr th:only-of-type {\n",
              "        vertical-align: middle;\n",
              "    }\n",
              "\n",
              "    .dataframe tbody tr th {\n",
              "        vertical-align: top;\n",
              "    }\n",
              "\n",
              "    .dataframe thead th {\n",
              "        text-align: right;\n",
              "    }\n",
              "</style>\n",
              "<table border=\"1\" class=\"dataframe\">\n",
              "  <thead>\n",
              "    <tr style=\"text-align: right;\">\n",
              "      <th></th>\n",
              "      <th>SeniorCitizen</th>\n",
              "      <th>tenure</th>\n",
              "      <th>MonthlyCharges</th>\n",
              "    </tr>\n",
              "  </thead>\n",
              "  <tbody>\n",
              "    <tr>\n",
              "      <th>count</th>\n",
              "      <td>7043.000000</td>\n",
              "      <td>7043.000000</td>\n",
              "      <td>7043.000000</td>\n",
              "    </tr>\n",
              "    <tr>\n",
              "      <th>mean</th>\n",
              "      <td>0.162147</td>\n",
              "      <td>32.371149</td>\n",
              "      <td>64.761692</td>\n",
              "    </tr>\n",
              "    <tr>\n",
              "      <th>std</th>\n",
              "      <td>0.368612</td>\n",
              "      <td>24.559481</td>\n",
              "      <td>30.090047</td>\n",
              "    </tr>\n",
              "    <tr>\n",
              "      <th>min</th>\n",
              "      <td>0.000000</td>\n",
              "      <td>0.000000</td>\n",
              "      <td>18.250000</td>\n",
              "    </tr>\n",
              "    <tr>\n",
              "      <th>25%</th>\n",
              "      <td>0.000000</td>\n",
              "      <td>9.000000</td>\n",
              "      <td>35.500000</td>\n",
              "    </tr>\n",
              "    <tr>\n",
              "      <th>50%</th>\n",
              "      <td>0.000000</td>\n",
              "      <td>29.000000</td>\n",
              "      <td>70.350000</td>\n",
              "    </tr>\n",
              "    <tr>\n",
              "      <th>75%</th>\n",
              "      <td>0.000000</td>\n",
              "      <td>55.000000</td>\n",
              "      <td>89.850000</td>\n",
              "    </tr>\n",
              "    <tr>\n",
              "      <th>max</th>\n",
              "      <td>1.000000</td>\n",
              "      <td>72.000000</td>\n",
              "      <td>118.750000</td>\n",
              "    </tr>\n",
              "  </tbody>\n",
              "</table>\n",
              "</div>"
            ],
            "text/plain": [
              "       SeniorCitizen       tenure  MonthlyCharges\n",
              "count    7043.000000  7043.000000     7043.000000\n",
              "mean        0.162147    32.371149       64.761692\n",
              "std         0.368612    24.559481       30.090047\n",
              "min         0.000000     0.000000       18.250000\n",
              "25%         0.000000     9.000000       35.500000\n",
              "50%         0.000000    29.000000       70.350000\n",
              "75%         0.000000    55.000000       89.850000\n",
              "max         1.000000    72.000000      118.750000"
            ]
          },
          "metadata": {
            "tags": []
          },
          "execution_count": 7
        }
      ]
    },
    {
      "cell_type": "code",
      "metadata": {
        "id": "aYTUN41yHOOH",
        "colab_type": "code",
        "colab": {}
      },
      "source": [
        "df_info_index = df.columns.drop(['SeniorCitizen', 'tenure', 'MonthlyCharges'])"
      ],
      "execution_count": null,
      "outputs": []
    },
    {
      "cell_type": "code",
      "metadata": {
        "ExecuteTime": {
          "end_time": "2020-03-15T16:44:32.011785Z",
          "start_time": "2020-03-15T16:44:31.955439Z"
        },
        "id": "nLbu1P39e1ME",
        "colab_type": "code",
        "colab": {
          "base_uri": "https://localhost:8080/",
          "height": 601
        },
        "outputId": "d83de9b2-ad99-4892-f5b2-d837a61228e4"
      },
      "source": [
        "count = []\n",
        "unique = []\n",
        "top = []\n",
        "freq = []\n",
        "for i in df_info_index: \n",
        "    count.append(df[i].count())\n",
        "    unique.append(df[i].nunique())\n",
        "    top.append(df[i].value_counts().index[0])\n",
        "    freq.append(df[i].value_counts()[0])\n",
        "\n",
        "pd.DataFrame({'count': count,'unique': unique, 'top': top, 'freq': freq}, index = df_info_index)"
      ],
      "execution_count": null,
      "outputs": [
        {
          "output_type": "execute_result",
          "data": {
            "text/html": [
              "<div>\n",
              "<style scoped>\n",
              "    .dataframe tbody tr th:only-of-type {\n",
              "        vertical-align: middle;\n",
              "    }\n",
              "\n",
              "    .dataframe tbody tr th {\n",
              "        vertical-align: top;\n",
              "    }\n",
              "\n",
              "    .dataframe thead th {\n",
              "        text-align: right;\n",
              "    }\n",
              "</style>\n",
              "<table border=\"1\" class=\"dataframe\">\n",
              "  <thead>\n",
              "    <tr style=\"text-align: right;\">\n",
              "      <th></th>\n",
              "      <th>count</th>\n",
              "      <th>unique</th>\n",
              "      <th>top</th>\n",
              "      <th>freq</th>\n",
              "    </tr>\n",
              "  </thead>\n",
              "  <tbody>\n",
              "    <tr>\n",
              "      <th>customerID</th>\n",
              "      <td>7043</td>\n",
              "      <td>7043</td>\n",
              "      <td>5298-GSTLM</td>\n",
              "      <td>1</td>\n",
              "    </tr>\n",
              "    <tr>\n",
              "      <th>gender</th>\n",
              "      <td>7043</td>\n",
              "      <td>2</td>\n",
              "      <td>Male</td>\n",
              "      <td>3555</td>\n",
              "    </tr>\n",
              "    <tr>\n",
              "      <th>Partner</th>\n",
              "      <td>7043</td>\n",
              "      <td>2</td>\n",
              "      <td>No</td>\n",
              "      <td>3641</td>\n",
              "    </tr>\n",
              "    <tr>\n",
              "      <th>Dependents</th>\n",
              "      <td>7043</td>\n",
              "      <td>2</td>\n",
              "      <td>No</td>\n",
              "      <td>4933</td>\n",
              "    </tr>\n",
              "    <tr>\n",
              "      <th>PhoneService</th>\n",
              "      <td>7043</td>\n",
              "      <td>2</td>\n",
              "      <td>Yes</td>\n",
              "      <td>6361</td>\n",
              "    </tr>\n",
              "    <tr>\n",
              "      <th>MultipleLines</th>\n",
              "      <td>7043</td>\n",
              "      <td>3</td>\n",
              "      <td>No</td>\n",
              "      <td>3390</td>\n",
              "    </tr>\n",
              "    <tr>\n",
              "      <th>InternetService</th>\n",
              "      <td>7043</td>\n",
              "      <td>3</td>\n",
              "      <td>Fiber optic</td>\n",
              "      <td>3096</td>\n",
              "    </tr>\n",
              "    <tr>\n",
              "      <th>OnlineSecurity</th>\n",
              "      <td>7043</td>\n",
              "      <td>3</td>\n",
              "      <td>No</td>\n",
              "      <td>3498</td>\n",
              "    </tr>\n",
              "    <tr>\n",
              "      <th>OnlineBackup</th>\n",
              "      <td>7043</td>\n",
              "      <td>3</td>\n",
              "      <td>No</td>\n",
              "      <td>3088</td>\n",
              "    </tr>\n",
              "    <tr>\n",
              "      <th>DeviceProtection</th>\n",
              "      <td>7043</td>\n",
              "      <td>3</td>\n",
              "      <td>No</td>\n",
              "      <td>3095</td>\n",
              "    </tr>\n",
              "    <tr>\n",
              "      <th>TechSupport</th>\n",
              "      <td>7043</td>\n",
              "      <td>3</td>\n",
              "      <td>No</td>\n",
              "      <td>3473</td>\n",
              "    </tr>\n",
              "    <tr>\n",
              "      <th>StreamingTV</th>\n",
              "      <td>7043</td>\n",
              "      <td>3</td>\n",
              "      <td>No</td>\n",
              "      <td>2810</td>\n",
              "    </tr>\n",
              "    <tr>\n",
              "      <th>StreamingMovies</th>\n",
              "      <td>7043</td>\n",
              "      <td>3</td>\n",
              "      <td>No</td>\n",
              "      <td>2785</td>\n",
              "    </tr>\n",
              "    <tr>\n",
              "      <th>Contract</th>\n",
              "      <td>7043</td>\n",
              "      <td>3</td>\n",
              "      <td>Month-to-month</td>\n",
              "      <td>3875</td>\n",
              "    </tr>\n",
              "    <tr>\n",
              "      <th>PaperlessBilling</th>\n",
              "      <td>7043</td>\n",
              "      <td>2</td>\n",
              "      <td>Yes</td>\n",
              "      <td>4171</td>\n",
              "    </tr>\n",
              "    <tr>\n",
              "      <th>PaymentMethod</th>\n",
              "      <td>7043</td>\n",
              "      <td>4</td>\n",
              "      <td>Electronic check</td>\n",
              "      <td>2365</td>\n",
              "    </tr>\n",
              "    <tr>\n",
              "      <th>TotalCharges</th>\n",
              "      <td>7043</td>\n",
              "      <td>6531</td>\n",
              "      <td></td>\n",
              "      <td>11</td>\n",
              "    </tr>\n",
              "    <tr>\n",
              "      <th>Churn</th>\n",
              "      <td>7043</td>\n",
              "      <td>2</td>\n",
              "      <td>No</td>\n",
              "      <td>5174</td>\n",
              "    </tr>\n",
              "  </tbody>\n",
              "</table>\n",
              "</div>"
            ],
            "text/plain": [
              "                  count  unique               top  freq\n",
              "customerID         7043    7043        5298-GSTLM     1\n",
              "gender             7043       2              Male  3555\n",
              "Partner            7043       2                No  3641\n",
              "Dependents         7043       2                No  4933\n",
              "PhoneService       7043       2               Yes  6361\n",
              "MultipleLines      7043       3                No  3390\n",
              "InternetService    7043       3       Fiber optic  3096\n",
              "OnlineSecurity     7043       3                No  3498\n",
              "OnlineBackup       7043       3                No  3088\n",
              "DeviceProtection   7043       3                No  3095\n",
              "TechSupport        7043       3                No  3473\n",
              "StreamingTV        7043       3                No  2810\n",
              "StreamingMovies    7043       3                No  2785\n",
              "Contract           7043       3    Month-to-month  3875\n",
              "PaperlessBilling   7043       2               Yes  4171\n",
              "PaymentMethod      7043       4  Electronic check  2365\n",
              "TotalCharges       7043    6531                      11\n",
              "Churn              7043       2                No  5174"
            ]
          },
          "metadata": {
            "tags": []
          },
          "execution_count": 61
        }
      ]
    },
    {
      "cell_type": "code",
      "metadata": {
        "id": "at7pHKymL02L",
        "colab_type": "code",
        "colab": {
          "base_uri": "https://localhost:8080/",
          "height": 693
        },
        "outputId": "1bd2a500-b2e9-482a-98a5-0ca5dc67412c"
      },
      "source": [
        "list_item = []\n",
        "for col in df.columns:\n",
        "  list_item.append([col, df[col].dtype,\n",
        "                    df[col].isna().sum(),\n",
        "                    round((df[col].isna().sum()/len(df[col]))*100,2),\n",
        "                    df[col].nunique(),\n",
        "                    list(df[col].sample(2).values)\n",
        "                    ])\n",
        "dfDesc = pd.DataFrame(columns = ['dataFeatures', 'dataType', 'null', 'nullPct', 'unique', 'uniqueSample'], data = list_item)\n",
        "dfDesc"
      ],
      "execution_count": null,
      "outputs": [
        {
          "output_type": "execute_result",
          "data": {
            "text/html": [
              "<div>\n",
              "<style scoped>\n",
              "    .dataframe tbody tr th:only-of-type {\n",
              "        vertical-align: middle;\n",
              "    }\n",
              "\n",
              "    .dataframe tbody tr th {\n",
              "        vertical-align: top;\n",
              "    }\n",
              "\n",
              "    .dataframe thead th {\n",
              "        text-align: right;\n",
              "    }\n",
              "</style>\n",
              "<table border=\"1\" class=\"dataframe\">\n",
              "  <thead>\n",
              "    <tr style=\"text-align: right;\">\n",
              "      <th></th>\n",
              "      <th>dataFeatures</th>\n",
              "      <th>dataType</th>\n",
              "      <th>null</th>\n",
              "      <th>nullPct</th>\n",
              "      <th>unique</th>\n",
              "      <th>uniqueSample</th>\n",
              "    </tr>\n",
              "  </thead>\n",
              "  <tbody>\n",
              "    <tr>\n",
              "      <th>0</th>\n",
              "      <td>customerID</td>\n",
              "      <td>object</td>\n",
              "      <td>0</td>\n",
              "      <td>0.0</td>\n",
              "      <td>7043</td>\n",
              "      <td>[3211-AAPKX, 2506-TNFCO]</td>\n",
              "    </tr>\n",
              "    <tr>\n",
              "      <th>1</th>\n",
              "      <td>gender</td>\n",
              "      <td>object</td>\n",
              "      <td>0</td>\n",
              "      <td>0.0</td>\n",
              "      <td>2</td>\n",
              "      <td>[Male, Female]</td>\n",
              "    </tr>\n",
              "    <tr>\n",
              "      <th>2</th>\n",
              "      <td>SeniorCitizen</td>\n",
              "      <td>int64</td>\n",
              "      <td>0</td>\n",
              "      <td>0.0</td>\n",
              "      <td>2</td>\n",
              "      <td>[0, 0]</td>\n",
              "    </tr>\n",
              "    <tr>\n",
              "      <th>3</th>\n",
              "      <td>Partner</td>\n",
              "      <td>object</td>\n",
              "      <td>0</td>\n",
              "      <td>0.0</td>\n",
              "      <td>2</td>\n",
              "      <td>[No, No]</td>\n",
              "    </tr>\n",
              "    <tr>\n",
              "      <th>4</th>\n",
              "      <td>Dependents</td>\n",
              "      <td>object</td>\n",
              "      <td>0</td>\n",
              "      <td>0.0</td>\n",
              "      <td>2</td>\n",
              "      <td>[No, Yes]</td>\n",
              "    </tr>\n",
              "    <tr>\n",
              "      <th>5</th>\n",
              "      <td>tenure</td>\n",
              "      <td>int64</td>\n",
              "      <td>0</td>\n",
              "      <td>0.0</td>\n",
              "      <td>73</td>\n",
              "      <td>[53, 61]</td>\n",
              "    </tr>\n",
              "    <tr>\n",
              "      <th>6</th>\n",
              "      <td>PhoneService</td>\n",
              "      <td>object</td>\n",
              "      <td>0</td>\n",
              "      <td>0.0</td>\n",
              "      <td>2</td>\n",
              "      <td>[Yes, Yes]</td>\n",
              "    </tr>\n",
              "    <tr>\n",
              "      <th>7</th>\n",
              "      <td>MultipleLines</td>\n",
              "      <td>object</td>\n",
              "      <td>0</td>\n",
              "      <td>0.0</td>\n",
              "      <td>3</td>\n",
              "      <td>[No phone service, Yes]</td>\n",
              "    </tr>\n",
              "    <tr>\n",
              "      <th>8</th>\n",
              "      <td>InternetService</td>\n",
              "      <td>object</td>\n",
              "      <td>0</td>\n",
              "      <td>0.0</td>\n",
              "      <td>3</td>\n",
              "      <td>[Fiber optic, Fiber optic]</td>\n",
              "    </tr>\n",
              "    <tr>\n",
              "      <th>9</th>\n",
              "      <td>OnlineSecurity</td>\n",
              "      <td>object</td>\n",
              "      <td>0</td>\n",
              "      <td>0.0</td>\n",
              "      <td>3</td>\n",
              "      <td>[No, No]</td>\n",
              "    </tr>\n",
              "    <tr>\n",
              "      <th>10</th>\n",
              "      <td>OnlineBackup</td>\n",
              "      <td>object</td>\n",
              "      <td>0</td>\n",
              "      <td>0.0</td>\n",
              "      <td>3</td>\n",
              "      <td>[No, Yes]</td>\n",
              "    </tr>\n",
              "    <tr>\n",
              "      <th>11</th>\n",
              "      <td>DeviceProtection</td>\n",
              "      <td>object</td>\n",
              "      <td>0</td>\n",
              "      <td>0.0</td>\n",
              "      <td>3</td>\n",
              "      <td>[No, Yes]</td>\n",
              "    </tr>\n",
              "    <tr>\n",
              "      <th>12</th>\n",
              "      <td>TechSupport</td>\n",
              "      <td>object</td>\n",
              "      <td>0</td>\n",
              "      <td>0.0</td>\n",
              "      <td>3</td>\n",
              "      <td>[No internet service, No]</td>\n",
              "    </tr>\n",
              "    <tr>\n",
              "      <th>13</th>\n",
              "      <td>StreamingTV</td>\n",
              "      <td>object</td>\n",
              "      <td>0</td>\n",
              "      <td>0.0</td>\n",
              "      <td>3</td>\n",
              "      <td>[No internet service, Yes]</td>\n",
              "    </tr>\n",
              "    <tr>\n",
              "      <th>14</th>\n",
              "      <td>StreamingMovies</td>\n",
              "      <td>object</td>\n",
              "      <td>0</td>\n",
              "      <td>0.0</td>\n",
              "      <td>3</td>\n",
              "      <td>[Yes, No]</td>\n",
              "    </tr>\n",
              "    <tr>\n",
              "      <th>15</th>\n",
              "      <td>Contract</td>\n",
              "      <td>object</td>\n",
              "      <td>0</td>\n",
              "      <td>0.0</td>\n",
              "      <td>3</td>\n",
              "      <td>[Month-to-month, Month-to-month]</td>\n",
              "    </tr>\n",
              "    <tr>\n",
              "      <th>16</th>\n",
              "      <td>PaperlessBilling</td>\n",
              "      <td>object</td>\n",
              "      <td>0</td>\n",
              "      <td>0.0</td>\n",
              "      <td>2</td>\n",
              "      <td>[No, Yes]</td>\n",
              "    </tr>\n",
              "    <tr>\n",
              "      <th>17</th>\n",
              "      <td>PaymentMethod</td>\n",
              "      <td>object</td>\n",
              "      <td>0</td>\n",
              "      <td>0.0</td>\n",
              "      <td>4</td>\n",
              "      <td>[Mailed check, Bank transfer (automatic)]</td>\n",
              "    </tr>\n",
              "    <tr>\n",
              "      <th>18</th>\n",
              "      <td>MonthlyCharges</td>\n",
              "      <td>float64</td>\n",
              "      <td>0</td>\n",
              "      <td>0.0</td>\n",
              "      <td>1585</td>\n",
              "      <td>[79.15, 71.05]</td>\n",
              "    </tr>\n",
              "    <tr>\n",
              "      <th>19</th>\n",
              "      <td>TotalCharges</td>\n",
              "      <td>object</td>\n",
              "      <td>0</td>\n",
              "      <td>0.0</td>\n",
              "      <td>6531</td>\n",
              "      <td>[2203.7, 2142.8]</td>\n",
              "    </tr>\n",
              "    <tr>\n",
              "      <th>20</th>\n",
              "      <td>Churn</td>\n",
              "      <td>object</td>\n",
              "      <td>0</td>\n",
              "      <td>0.0</td>\n",
              "      <td>2</td>\n",
              "      <td>[No, Yes]</td>\n",
              "    </tr>\n",
              "  </tbody>\n",
              "</table>\n",
              "</div>"
            ],
            "text/plain": [
              "        dataFeatures  ...                               uniqueSample\n",
              "0         customerID  ...                   [3211-AAPKX, 2506-TNFCO]\n",
              "1             gender  ...                             [Male, Female]\n",
              "2      SeniorCitizen  ...                                     [0, 0]\n",
              "3            Partner  ...                                   [No, No]\n",
              "4         Dependents  ...                                  [No, Yes]\n",
              "5             tenure  ...                                   [53, 61]\n",
              "6       PhoneService  ...                                 [Yes, Yes]\n",
              "7      MultipleLines  ...                    [No phone service, Yes]\n",
              "8    InternetService  ...                 [Fiber optic, Fiber optic]\n",
              "9     OnlineSecurity  ...                                   [No, No]\n",
              "10      OnlineBackup  ...                                  [No, Yes]\n",
              "11  DeviceProtection  ...                                  [No, Yes]\n",
              "12       TechSupport  ...                  [No internet service, No]\n",
              "13       StreamingTV  ...                 [No internet service, Yes]\n",
              "14   StreamingMovies  ...                                  [Yes, No]\n",
              "15          Contract  ...           [Month-to-month, Month-to-month]\n",
              "16  PaperlessBilling  ...                                  [No, Yes]\n",
              "17     PaymentMethod  ...  [Mailed check, Bank transfer (automatic)]\n",
              "18    MonthlyCharges  ...                             [79.15, 71.05]\n",
              "19      TotalCharges  ...                           [2203.7, 2142.8]\n",
              "20             Churn  ...                                  [No, Yes]\n",
              "\n",
              "[21 rows x 6 columns]"
            ]
          },
          "metadata": {
            "tags": []
          },
          "execution_count": 62
        }
      ]
    },
    {
      "cell_type": "markdown",
      "metadata": {
        "id": "fZkaEDhFe1MY",
        "colab_type": "text"
      },
      "source": [
        "#Q1: Data Preparation (15 point)\n",
        "\n",
        "## 1. Ubahlah format dari kolom yang menurutmu perlu diubah! (Perlu diingat bahwa untuk membuat modelling machine learning diperlukan data yang memiliki format numerik seluruhnya).\n",
        "## 2. Adakah missing value pada data tersebut? Jika ada, apakah perlu dilakukan penghapusan missing value?\n",
        "## 3. Lakukan step data preparation APAPUN yang belum dilakukan di nomor 1 dan 2 di atas.\n"
      ]
    },
    {
      "cell_type": "markdown",
      "metadata": {
        "id": "FricDUcTM9PU",
        "colab_type": "text"
      },
      "source": [
        "## 1. Mengubah format kolom <br>\n",
        "**Gender, Partner, Dependents, PhoneService, MultipleLines, InternetService, OnlineSecurity, OnlineBackup, DeviceProtection, TechSupport, StreamingTV, StreamingMovies, Contract, PaperlessBilling, PaymentMethod, dan Churn**\n",
        "\n",
        "Saya akan mengubah format dengan dummy variabel/one hot, karna kolom tersebut merupakan nominal (tidak punya tingkatan)"
      ]
    },
    {
      "cell_type": "markdown",
      "metadata": {
        "id": "pZafJPmUTAPO",
        "colab_type": "text"
      },
      "source": [
        "Yang pertama saya lakukan adalah mengubah untuk kategorik yang lebih dari 2"
      ]
    },
    {
      "cell_type": "code",
      "metadata": {
        "id": "B-HPn6BtPDa9",
        "colab_type": "code",
        "colab": {}
      },
      "source": [
        "feature_mt3 = dfDesc[dfDesc['unique'] == 3]['dataFeatures'].values"
      ],
      "execution_count": null,
      "outputs": []
    },
    {
      "cell_type": "markdown",
      "metadata": {
        "id": "v6VCwEHQTHxc",
        "colab_type": "text"
      },
      "source": [
        "Karna tadi menggunakan code di bawah ini tapi error <br>\n",
        "`dfDesc[dfDesc['unique'] == (3 or 4)]['dataFeatures'].values` <br>\n",
        "maka saya membuatnya terpisah menjadi yang kategoriknya ada 3 dan 4"
      ]
    },
    {
      "cell_type": "code",
      "metadata": {
        "id": "JyF2WSIeSTV-",
        "colab_type": "code",
        "colab": {
          "base_uri": "https://localhost:8080/",
          "height": 34
        },
        "outputId": "0462a450-1da1-4166-ba1f-2e3a46e8c53a"
      },
      "source": [
        "feature_mt4 = dfDesc[dfDesc['unique'] == 4]['dataFeatures'].values\n",
        "feature_mt4"
      ],
      "execution_count": null,
      "outputs": [
        {
          "output_type": "execute_result",
          "data": {
            "text/plain": [
              "array(['PaymentMethod'], dtype=object)"
            ]
          },
          "metadata": {
            "tags": []
          },
          "execution_count": 101
        }
      ]
    },
    {
      "cell_type": "code",
      "metadata": {
        "id": "Ajn5_KJrMHQB",
        "colab_type": "code",
        "colab": {}
      },
      "source": [
        "df_clean = df.copy()\n",
        "for i in feature_mt3:\n",
        "    temp = pd.get_dummies(df_clean[i], drop_first = True)\n",
        "    df_clean = pd.concat([df_clean, temp], axis=1)\n",
        "    df_clean.drop(i, axis = 1, inplace = True)"
      ],
      "execution_count": null,
      "outputs": []
    },
    {
      "cell_type": "code",
      "metadata": {
        "id": "des5Nv05SZIg",
        "colab_type": "code",
        "colab": {}
      },
      "source": [
        "temp = pd.get_dummies(df_clean[feature_mt4], drop_first = True)\n",
        "df_clean = pd.concat([df_clean, temp], axis=1)\n",
        "df_clean.drop(feature_mt4, axis = 1, inplace = True)"
      ],
      "execution_count": null,
      "outputs": []
    },
    {
      "cell_type": "code",
      "metadata": {
        "id": "kcJ9KOaCR2Zk",
        "colab_type": "code",
        "colab": {
          "base_uri": "https://localhost:8080/",
          "height": 344
        },
        "outputId": "722ba396-e29c-498b-8643-68c29553d7aa"
      },
      "source": [
        "df_clean.head()"
      ],
      "execution_count": null,
      "outputs": [
        {
          "output_type": "execute_result",
          "data": {
            "text/html": [
              "<div>\n",
              "<style scoped>\n",
              "    .dataframe tbody tr th:only-of-type {\n",
              "        vertical-align: middle;\n",
              "    }\n",
              "\n",
              "    .dataframe tbody tr th {\n",
              "        vertical-align: top;\n",
              "    }\n",
              "\n",
              "    .dataframe thead th {\n",
              "        text-align: right;\n",
              "    }\n",
              "</style>\n",
              "<table border=\"1\" class=\"dataframe\">\n",
              "  <thead>\n",
              "    <tr style=\"text-align: right;\">\n",
              "      <th></th>\n",
              "      <th>customerID</th>\n",
              "      <th>gender</th>\n",
              "      <th>SeniorCitizen</th>\n",
              "      <th>Partner</th>\n",
              "      <th>Dependents</th>\n",
              "      <th>tenure</th>\n",
              "      <th>PhoneService</th>\n",
              "      <th>PaperlessBilling</th>\n",
              "      <th>MonthlyCharges</th>\n",
              "      <th>TotalCharges</th>\n",
              "      <th>Churn</th>\n",
              "      <th>No phone service</th>\n",
              "      <th>Yes</th>\n",
              "      <th>Fiber optic</th>\n",
              "      <th>No</th>\n",
              "      <th>No internet service</th>\n",
              "      <th>Yes</th>\n",
              "      <th>No internet service</th>\n",
              "      <th>Yes</th>\n",
              "      <th>No internet service</th>\n",
              "      <th>Yes</th>\n",
              "      <th>No internet service</th>\n",
              "      <th>Yes</th>\n",
              "      <th>No internet service</th>\n",
              "      <th>Yes</th>\n",
              "      <th>No internet service</th>\n",
              "      <th>Yes</th>\n",
              "      <th>One year</th>\n",
              "      <th>Two year</th>\n",
              "      <th>PaymentMethod_Credit card (automatic)</th>\n",
              "      <th>PaymentMethod_Electronic check</th>\n",
              "      <th>PaymentMethod_Mailed check</th>\n",
              "    </tr>\n",
              "  </thead>\n",
              "  <tbody>\n",
              "    <tr>\n",
              "      <th>0</th>\n",
              "      <td>7590-VHVEG</td>\n",
              "      <td>Female</td>\n",
              "      <td>0</td>\n",
              "      <td>Yes</td>\n",
              "      <td>No</td>\n",
              "      <td>1</td>\n",
              "      <td>No</td>\n",
              "      <td>Yes</td>\n",
              "      <td>29.85</td>\n",
              "      <td>29.85</td>\n",
              "      <td>No</td>\n",
              "      <td>1</td>\n",
              "      <td>0</td>\n",
              "      <td>0</td>\n",
              "      <td>0</td>\n",
              "      <td>0</td>\n",
              "      <td>0</td>\n",
              "      <td>0</td>\n",
              "      <td>1</td>\n",
              "      <td>0</td>\n",
              "      <td>0</td>\n",
              "      <td>0</td>\n",
              "      <td>0</td>\n",
              "      <td>0</td>\n",
              "      <td>0</td>\n",
              "      <td>0</td>\n",
              "      <td>0</td>\n",
              "      <td>0</td>\n",
              "      <td>0</td>\n",
              "      <td>0</td>\n",
              "      <td>1</td>\n",
              "      <td>0</td>\n",
              "    </tr>\n",
              "    <tr>\n",
              "      <th>1</th>\n",
              "      <td>5575-GNVDE</td>\n",
              "      <td>Male</td>\n",
              "      <td>0</td>\n",
              "      <td>No</td>\n",
              "      <td>No</td>\n",
              "      <td>34</td>\n",
              "      <td>Yes</td>\n",
              "      <td>No</td>\n",
              "      <td>56.95</td>\n",
              "      <td>1889.5</td>\n",
              "      <td>No</td>\n",
              "      <td>0</td>\n",
              "      <td>0</td>\n",
              "      <td>0</td>\n",
              "      <td>0</td>\n",
              "      <td>0</td>\n",
              "      <td>1</td>\n",
              "      <td>0</td>\n",
              "      <td>0</td>\n",
              "      <td>0</td>\n",
              "      <td>1</td>\n",
              "      <td>0</td>\n",
              "      <td>0</td>\n",
              "      <td>0</td>\n",
              "      <td>0</td>\n",
              "      <td>0</td>\n",
              "      <td>0</td>\n",
              "      <td>1</td>\n",
              "      <td>0</td>\n",
              "      <td>0</td>\n",
              "      <td>0</td>\n",
              "      <td>1</td>\n",
              "    </tr>\n",
              "    <tr>\n",
              "      <th>2</th>\n",
              "      <td>3668-QPYBK</td>\n",
              "      <td>Male</td>\n",
              "      <td>0</td>\n",
              "      <td>No</td>\n",
              "      <td>No</td>\n",
              "      <td>2</td>\n",
              "      <td>Yes</td>\n",
              "      <td>Yes</td>\n",
              "      <td>53.85</td>\n",
              "      <td>108.15</td>\n",
              "      <td>Yes</td>\n",
              "      <td>0</td>\n",
              "      <td>0</td>\n",
              "      <td>0</td>\n",
              "      <td>0</td>\n",
              "      <td>0</td>\n",
              "      <td>1</td>\n",
              "      <td>0</td>\n",
              "      <td>1</td>\n",
              "      <td>0</td>\n",
              "      <td>0</td>\n",
              "      <td>0</td>\n",
              "      <td>0</td>\n",
              "      <td>0</td>\n",
              "      <td>0</td>\n",
              "      <td>0</td>\n",
              "      <td>0</td>\n",
              "      <td>0</td>\n",
              "      <td>0</td>\n",
              "      <td>0</td>\n",
              "      <td>0</td>\n",
              "      <td>1</td>\n",
              "    </tr>\n",
              "    <tr>\n",
              "      <th>3</th>\n",
              "      <td>7795-CFOCW</td>\n",
              "      <td>Male</td>\n",
              "      <td>0</td>\n",
              "      <td>No</td>\n",
              "      <td>No</td>\n",
              "      <td>45</td>\n",
              "      <td>No</td>\n",
              "      <td>No</td>\n",
              "      <td>42.30</td>\n",
              "      <td>1840.75</td>\n",
              "      <td>No</td>\n",
              "      <td>1</td>\n",
              "      <td>0</td>\n",
              "      <td>0</td>\n",
              "      <td>0</td>\n",
              "      <td>0</td>\n",
              "      <td>1</td>\n",
              "      <td>0</td>\n",
              "      <td>0</td>\n",
              "      <td>0</td>\n",
              "      <td>1</td>\n",
              "      <td>0</td>\n",
              "      <td>1</td>\n",
              "      <td>0</td>\n",
              "      <td>0</td>\n",
              "      <td>0</td>\n",
              "      <td>0</td>\n",
              "      <td>1</td>\n",
              "      <td>0</td>\n",
              "      <td>0</td>\n",
              "      <td>0</td>\n",
              "      <td>0</td>\n",
              "    </tr>\n",
              "    <tr>\n",
              "      <th>4</th>\n",
              "      <td>9237-HQITU</td>\n",
              "      <td>Female</td>\n",
              "      <td>0</td>\n",
              "      <td>No</td>\n",
              "      <td>No</td>\n",
              "      <td>2</td>\n",
              "      <td>Yes</td>\n",
              "      <td>Yes</td>\n",
              "      <td>70.70</td>\n",
              "      <td>151.65</td>\n",
              "      <td>Yes</td>\n",
              "      <td>0</td>\n",
              "      <td>0</td>\n",
              "      <td>1</td>\n",
              "      <td>0</td>\n",
              "      <td>0</td>\n",
              "      <td>0</td>\n",
              "      <td>0</td>\n",
              "      <td>0</td>\n",
              "      <td>0</td>\n",
              "      <td>0</td>\n",
              "      <td>0</td>\n",
              "      <td>0</td>\n",
              "      <td>0</td>\n",
              "      <td>0</td>\n",
              "      <td>0</td>\n",
              "      <td>0</td>\n",
              "      <td>0</td>\n",
              "      <td>0</td>\n",
              "      <td>0</td>\n",
              "      <td>1</td>\n",
              "      <td>0</td>\n",
              "    </tr>\n",
              "  </tbody>\n",
              "</table>\n",
              "</div>"
            ],
            "text/plain": [
              "   customerID  ... PaymentMethod_Mailed check\n",
              "0  7590-VHVEG  ...                          0\n",
              "1  5575-GNVDE  ...                          1\n",
              "2  3668-QPYBK  ...                          1\n",
              "3  7795-CFOCW  ...                          0\n",
              "4  9237-HQITU  ...                          0\n",
              "\n",
              "[5 rows x 32 columns]"
            ]
          },
          "metadata": {
            "tags": []
          },
          "execution_count": 104
        }
      ]
    },
    {
      "cell_type": "markdown",
      "metadata": {
        "id": "kpA4OtOjTe2L",
        "colab_type": "text"
      },
      "source": [
        "Kemudian membuat label untuk 2 kategori"
      ]
    },
    {
      "cell_type": "code",
      "metadata": {
        "id": "Noz7P84rMHYc",
        "colab_type": "code",
        "colab": {
          "base_uri": "https://localhost:8080/",
          "height": 52
        },
        "outputId": "2dc97208-beff-4194-f131-82b90dc0d359"
      },
      "source": [
        "feature_mt2 = dfDesc[dfDesc['unique'] == 2]['dataFeatures'].values\n",
        "feature_mt2"
      ],
      "execution_count": null,
      "outputs": [
        {
          "output_type": "execute_result",
          "data": {
            "text/plain": [
              "array(['gender', 'SeniorCitizen', 'Partner', 'Dependents', 'PhoneService',\n",
              "       'PaperlessBilling', 'Churn'], dtype=object)"
            ]
          },
          "metadata": {
            "tags": []
          },
          "execution_count": 106
        }
      ]
    },
    {
      "cell_type": "code",
      "metadata": {
        "id": "kcpavsE1MHTE",
        "colab_type": "code",
        "colab": {}
      },
      "source": [
        "from sklearn.preprocessing import LabelEncoder\n",
        "\n",
        "for i in feature_mt2:\n",
        "    le = LabelEncoder()\n",
        "    le.fit(df_clean[i])\n",
        "    temp = le.fit_transform(df_clean[i])\n",
        "    df_clean.drop(i, axis = 1, inplace = True)\n",
        "    df_clean[i] = temp.reshape(-1,1)"
      ],
      "execution_count": null,
      "outputs": []
    },
    {
      "cell_type": "code",
      "metadata": {
        "id": "BhMbTy1OVP-y",
        "colab_type": "code",
        "colab": {
          "base_uri": "https://localhost:8080/",
          "height": 344
        },
        "outputId": "35dc3483-3281-476c-f569-c52c125dd102"
      },
      "source": [
        "df_clean.head()"
      ],
      "execution_count": null,
      "outputs": [
        {
          "output_type": "execute_result",
          "data": {
            "text/html": [
              "<div>\n",
              "<style scoped>\n",
              "    .dataframe tbody tr th:only-of-type {\n",
              "        vertical-align: middle;\n",
              "    }\n",
              "\n",
              "    .dataframe tbody tr th {\n",
              "        vertical-align: top;\n",
              "    }\n",
              "\n",
              "    .dataframe thead th {\n",
              "        text-align: right;\n",
              "    }\n",
              "</style>\n",
              "<table border=\"1\" class=\"dataframe\">\n",
              "  <thead>\n",
              "    <tr style=\"text-align: right;\">\n",
              "      <th></th>\n",
              "      <th>customerID</th>\n",
              "      <th>tenure</th>\n",
              "      <th>MonthlyCharges</th>\n",
              "      <th>TotalCharges</th>\n",
              "      <th>No phone service</th>\n",
              "      <th>Yes</th>\n",
              "      <th>Fiber optic</th>\n",
              "      <th>No</th>\n",
              "      <th>No internet service</th>\n",
              "      <th>Yes</th>\n",
              "      <th>No internet service</th>\n",
              "      <th>Yes</th>\n",
              "      <th>No internet service</th>\n",
              "      <th>Yes</th>\n",
              "      <th>No internet service</th>\n",
              "      <th>Yes</th>\n",
              "      <th>No internet service</th>\n",
              "      <th>Yes</th>\n",
              "      <th>No internet service</th>\n",
              "      <th>Yes</th>\n",
              "      <th>One year</th>\n",
              "      <th>Two year</th>\n",
              "      <th>PaymentMethod_Credit card (automatic)</th>\n",
              "      <th>PaymentMethod_Electronic check</th>\n",
              "      <th>PaymentMethod_Mailed check</th>\n",
              "      <th>gender</th>\n",
              "      <th>SeniorCitizen</th>\n",
              "      <th>Partner</th>\n",
              "      <th>Dependents</th>\n",
              "      <th>PhoneService</th>\n",
              "      <th>PaperlessBilling</th>\n",
              "      <th>Churn</th>\n",
              "    </tr>\n",
              "  </thead>\n",
              "  <tbody>\n",
              "    <tr>\n",
              "      <th>0</th>\n",
              "      <td>7590-VHVEG</td>\n",
              "      <td>1</td>\n",
              "      <td>29.85</td>\n",
              "      <td>29.85</td>\n",
              "      <td>1</td>\n",
              "      <td>0</td>\n",
              "      <td>0</td>\n",
              "      <td>0</td>\n",
              "      <td>0</td>\n",
              "      <td>0</td>\n",
              "      <td>0</td>\n",
              "      <td>1</td>\n",
              "      <td>0</td>\n",
              "      <td>0</td>\n",
              "      <td>0</td>\n",
              "      <td>0</td>\n",
              "      <td>0</td>\n",
              "      <td>0</td>\n",
              "      <td>0</td>\n",
              "      <td>0</td>\n",
              "      <td>0</td>\n",
              "      <td>0</td>\n",
              "      <td>0</td>\n",
              "      <td>1</td>\n",
              "      <td>0</td>\n",
              "      <td>0</td>\n",
              "      <td>0</td>\n",
              "      <td>1</td>\n",
              "      <td>0</td>\n",
              "      <td>0</td>\n",
              "      <td>1</td>\n",
              "      <td>0</td>\n",
              "    </tr>\n",
              "    <tr>\n",
              "      <th>1</th>\n",
              "      <td>5575-GNVDE</td>\n",
              "      <td>34</td>\n",
              "      <td>56.95</td>\n",
              "      <td>1889.5</td>\n",
              "      <td>0</td>\n",
              "      <td>0</td>\n",
              "      <td>0</td>\n",
              "      <td>0</td>\n",
              "      <td>0</td>\n",
              "      <td>1</td>\n",
              "      <td>0</td>\n",
              "      <td>0</td>\n",
              "      <td>0</td>\n",
              "      <td>1</td>\n",
              "      <td>0</td>\n",
              "      <td>0</td>\n",
              "      <td>0</td>\n",
              "      <td>0</td>\n",
              "      <td>0</td>\n",
              "      <td>0</td>\n",
              "      <td>1</td>\n",
              "      <td>0</td>\n",
              "      <td>0</td>\n",
              "      <td>0</td>\n",
              "      <td>1</td>\n",
              "      <td>1</td>\n",
              "      <td>0</td>\n",
              "      <td>0</td>\n",
              "      <td>0</td>\n",
              "      <td>1</td>\n",
              "      <td>0</td>\n",
              "      <td>0</td>\n",
              "    </tr>\n",
              "    <tr>\n",
              "      <th>2</th>\n",
              "      <td>3668-QPYBK</td>\n",
              "      <td>2</td>\n",
              "      <td>53.85</td>\n",
              "      <td>108.15</td>\n",
              "      <td>0</td>\n",
              "      <td>0</td>\n",
              "      <td>0</td>\n",
              "      <td>0</td>\n",
              "      <td>0</td>\n",
              "      <td>1</td>\n",
              "      <td>0</td>\n",
              "      <td>1</td>\n",
              "      <td>0</td>\n",
              "      <td>0</td>\n",
              "      <td>0</td>\n",
              "      <td>0</td>\n",
              "      <td>0</td>\n",
              "      <td>0</td>\n",
              "      <td>0</td>\n",
              "      <td>0</td>\n",
              "      <td>0</td>\n",
              "      <td>0</td>\n",
              "      <td>0</td>\n",
              "      <td>0</td>\n",
              "      <td>1</td>\n",
              "      <td>1</td>\n",
              "      <td>0</td>\n",
              "      <td>0</td>\n",
              "      <td>0</td>\n",
              "      <td>1</td>\n",
              "      <td>1</td>\n",
              "      <td>1</td>\n",
              "    </tr>\n",
              "    <tr>\n",
              "      <th>3</th>\n",
              "      <td>7795-CFOCW</td>\n",
              "      <td>45</td>\n",
              "      <td>42.30</td>\n",
              "      <td>1840.75</td>\n",
              "      <td>1</td>\n",
              "      <td>0</td>\n",
              "      <td>0</td>\n",
              "      <td>0</td>\n",
              "      <td>0</td>\n",
              "      <td>1</td>\n",
              "      <td>0</td>\n",
              "      <td>0</td>\n",
              "      <td>0</td>\n",
              "      <td>1</td>\n",
              "      <td>0</td>\n",
              "      <td>1</td>\n",
              "      <td>0</td>\n",
              "      <td>0</td>\n",
              "      <td>0</td>\n",
              "      <td>0</td>\n",
              "      <td>1</td>\n",
              "      <td>0</td>\n",
              "      <td>0</td>\n",
              "      <td>0</td>\n",
              "      <td>0</td>\n",
              "      <td>1</td>\n",
              "      <td>0</td>\n",
              "      <td>0</td>\n",
              "      <td>0</td>\n",
              "      <td>0</td>\n",
              "      <td>0</td>\n",
              "      <td>0</td>\n",
              "    </tr>\n",
              "    <tr>\n",
              "      <th>4</th>\n",
              "      <td>9237-HQITU</td>\n",
              "      <td>2</td>\n",
              "      <td>70.70</td>\n",
              "      <td>151.65</td>\n",
              "      <td>0</td>\n",
              "      <td>0</td>\n",
              "      <td>1</td>\n",
              "      <td>0</td>\n",
              "      <td>0</td>\n",
              "      <td>0</td>\n",
              "      <td>0</td>\n",
              "      <td>0</td>\n",
              "      <td>0</td>\n",
              "      <td>0</td>\n",
              "      <td>0</td>\n",
              "      <td>0</td>\n",
              "      <td>0</td>\n",
              "      <td>0</td>\n",
              "      <td>0</td>\n",
              "      <td>0</td>\n",
              "      <td>0</td>\n",
              "      <td>0</td>\n",
              "      <td>0</td>\n",
              "      <td>1</td>\n",
              "      <td>0</td>\n",
              "      <td>0</td>\n",
              "      <td>0</td>\n",
              "      <td>0</td>\n",
              "      <td>0</td>\n",
              "      <td>1</td>\n",
              "      <td>1</td>\n",
              "      <td>1</td>\n",
              "    </tr>\n",
              "  </tbody>\n",
              "</table>\n",
              "</div>"
            ],
            "text/plain": [
              "   customerID  tenure  MonthlyCharges  ... PhoneService  PaperlessBilling  Churn\n",
              "0  7590-VHVEG       1           29.85  ...            0                 1      0\n",
              "1  5575-GNVDE      34           56.95  ...            1                 0      0\n",
              "2  3668-QPYBK       2           53.85  ...            1                 1      1\n",
              "3  7795-CFOCW      45           42.30  ...            0                 0      0\n",
              "4  9237-HQITU       2           70.70  ...            1                 1      1\n",
              "\n",
              "[5 rows x 32 columns]"
            ]
          },
          "metadata": {
            "tags": []
          },
          "execution_count": 123
        }
      ]
    },
    {
      "cell_type": "code",
      "metadata": {
        "id": "WORrYm-qWBhK",
        "colab_type": "code",
        "colab": {
          "base_uri": "https://localhost:8080/",
          "height": 309
        },
        "outputId": "46e9b9d9-fa0f-4107-e6a1-1deee9bbd302"
      },
      "source": [
        "df.head()"
      ],
      "execution_count": null,
      "outputs": [
        {
          "output_type": "execute_result",
          "data": {
            "text/html": [
              "<div>\n",
              "<style scoped>\n",
              "    .dataframe tbody tr th:only-of-type {\n",
              "        vertical-align: middle;\n",
              "    }\n",
              "\n",
              "    .dataframe tbody tr th {\n",
              "        vertical-align: top;\n",
              "    }\n",
              "\n",
              "    .dataframe thead th {\n",
              "        text-align: right;\n",
              "    }\n",
              "</style>\n",
              "<table border=\"1\" class=\"dataframe\">\n",
              "  <thead>\n",
              "    <tr style=\"text-align: right;\">\n",
              "      <th></th>\n",
              "      <th>customerID</th>\n",
              "      <th>gender</th>\n",
              "      <th>SeniorCitizen</th>\n",
              "      <th>Partner</th>\n",
              "      <th>Dependents</th>\n",
              "      <th>tenure</th>\n",
              "      <th>PhoneService</th>\n",
              "      <th>MultipleLines</th>\n",
              "      <th>InternetService</th>\n",
              "      <th>OnlineSecurity</th>\n",
              "      <th>OnlineBackup</th>\n",
              "      <th>DeviceProtection</th>\n",
              "      <th>TechSupport</th>\n",
              "      <th>StreamingTV</th>\n",
              "      <th>StreamingMovies</th>\n",
              "      <th>Contract</th>\n",
              "      <th>PaperlessBilling</th>\n",
              "      <th>PaymentMethod</th>\n",
              "      <th>MonthlyCharges</th>\n",
              "      <th>TotalCharges</th>\n",
              "      <th>Churn</th>\n",
              "    </tr>\n",
              "  </thead>\n",
              "  <tbody>\n",
              "    <tr>\n",
              "      <th>0</th>\n",
              "      <td>7590-VHVEG</td>\n",
              "      <td>Female</td>\n",
              "      <td>0</td>\n",
              "      <td>Yes</td>\n",
              "      <td>No</td>\n",
              "      <td>1</td>\n",
              "      <td>No</td>\n",
              "      <td>No phone service</td>\n",
              "      <td>DSL</td>\n",
              "      <td>No</td>\n",
              "      <td>Yes</td>\n",
              "      <td>No</td>\n",
              "      <td>No</td>\n",
              "      <td>No</td>\n",
              "      <td>No</td>\n",
              "      <td>Month-to-month</td>\n",
              "      <td>Yes</td>\n",
              "      <td>Electronic check</td>\n",
              "      <td>29.85</td>\n",
              "      <td>29.85</td>\n",
              "      <td>No</td>\n",
              "    </tr>\n",
              "    <tr>\n",
              "      <th>1</th>\n",
              "      <td>5575-GNVDE</td>\n",
              "      <td>Male</td>\n",
              "      <td>0</td>\n",
              "      <td>No</td>\n",
              "      <td>No</td>\n",
              "      <td>34</td>\n",
              "      <td>Yes</td>\n",
              "      <td>No</td>\n",
              "      <td>DSL</td>\n",
              "      <td>Yes</td>\n",
              "      <td>No</td>\n",
              "      <td>Yes</td>\n",
              "      <td>No</td>\n",
              "      <td>No</td>\n",
              "      <td>No</td>\n",
              "      <td>One year</td>\n",
              "      <td>No</td>\n",
              "      <td>Mailed check</td>\n",
              "      <td>56.95</td>\n",
              "      <td>1889.5</td>\n",
              "      <td>No</td>\n",
              "    </tr>\n",
              "    <tr>\n",
              "      <th>2</th>\n",
              "      <td>3668-QPYBK</td>\n",
              "      <td>Male</td>\n",
              "      <td>0</td>\n",
              "      <td>No</td>\n",
              "      <td>No</td>\n",
              "      <td>2</td>\n",
              "      <td>Yes</td>\n",
              "      <td>No</td>\n",
              "      <td>DSL</td>\n",
              "      <td>Yes</td>\n",
              "      <td>Yes</td>\n",
              "      <td>No</td>\n",
              "      <td>No</td>\n",
              "      <td>No</td>\n",
              "      <td>No</td>\n",
              "      <td>Month-to-month</td>\n",
              "      <td>Yes</td>\n",
              "      <td>Mailed check</td>\n",
              "      <td>53.85</td>\n",
              "      <td>108.15</td>\n",
              "      <td>Yes</td>\n",
              "    </tr>\n",
              "    <tr>\n",
              "      <th>3</th>\n",
              "      <td>7795-CFOCW</td>\n",
              "      <td>Male</td>\n",
              "      <td>0</td>\n",
              "      <td>No</td>\n",
              "      <td>No</td>\n",
              "      <td>45</td>\n",
              "      <td>No</td>\n",
              "      <td>No phone service</td>\n",
              "      <td>DSL</td>\n",
              "      <td>Yes</td>\n",
              "      <td>No</td>\n",
              "      <td>Yes</td>\n",
              "      <td>Yes</td>\n",
              "      <td>No</td>\n",
              "      <td>No</td>\n",
              "      <td>One year</td>\n",
              "      <td>No</td>\n",
              "      <td>Bank transfer (automatic)</td>\n",
              "      <td>42.30</td>\n",
              "      <td>1840.75</td>\n",
              "      <td>No</td>\n",
              "    </tr>\n",
              "    <tr>\n",
              "      <th>4</th>\n",
              "      <td>9237-HQITU</td>\n",
              "      <td>Female</td>\n",
              "      <td>0</td>\n",
              "      <td>No</td>\n",
              "      <td>No</td>\n",
              "      <td>2</td>\n",
              "      <td>Yes</td>\n",
              "      <td>No</td>\n",
              "      <td>Fiber optic</td>\n",
              "      <td>No</td>\n",
              "      <td>No</td>\n",
              "      <td>No</td>\n",
              "      <td>No</td>\n",
              "      <td>No</td>\n",
              "      <td>No</td>\n",
              "      <td>Month-to-month</td>\n",
              "      <td>Yes</td>\n",
              "      <td>Electronic check</td>\n",
              "      <td>70.70</td>\n",
              "      <td>151.65</td>\n",
              "      <td>Yes</td>\n",
              "    </tr>\n",
              "  </tbody>\n",
              "</table>\n",
              "</div>"
            ],
            "text/plain": [
              "   customerID  gender  SeniorCitizen  ... MonthlyCharges TotalCharges  Churn\n",
              "0  7590-VHVEG  Female              0  ...          29.85        29.85     No\n",
              "1  5575-GNVDE    Male              0  ...          56.95       1889.5     No\n",
              "2  3668-QPYBK    Male              0  ...          53.85       108.15    Yes\n",
              "3  7795-CFOCW    Male              0  ...          42.30      1840.75     No\n",
              "4  9237-HQITU  Female              0  ...          70.70       151.65    Yes\n",
              "\n",
              "[5 rows x 21 columns]"
            ]
          },
          "metadata": {
            "tags": []
          },
          "execution_count": 124
        }
      ]
    },
    {
      "cell_type": "markdown",
      "metadata": {
        "id": "f1p_c6fNWFoW",
        "colab_type": "text"
      },
      "source": [
        "**Conc** : \n",
        "1. Gender: 0 = Female; 1 = Male\n",
        "2. 0 = No; 1 = Yes"
      ]
    },
    {
      "cell_type": "code",
      "metadata": {
        "id": "BjAoHRSAaiOf",
        "colab_type": "code",
        "colab": {
          "base_uri": "https://localhost:8080/",
          "height": 380
        },
        "outputId": "af978b20-5ea2-407f-f3db-021edec20152"
      },
      "source": [
        "df_clean['tenure'] = df_clean['tenure'].astype(int)\n",
        "df_clean['TotalCharges'] = df_clean['TotalCharges'].astype(int)"
      ],
      "execution_count": null,
      "outputs": [
        {
          "output_type": "error",
          "ename": "ValueError",
          "evalue": "ignored",
          "traceback": [
            "\u001b[0;31m---------------------------------------------------------------------------\u001b[0m",
            "\u001b[0;31mValueError\u001b[0m                                Traceback (most recent call last)",
            "\u001b[0;32m<ipython-input-149-93ded8d18e3a>\u001b[0m in \u001b[0;36m<module>\u001b[0;34m()\u001b[0m\n\u001b[1;32m      1\u001b[0m \u001b[0mdf_clean\u001b[0m\u001b[0;34m[\u001b[0m\u001b[0;34m'tenure'\u001b[0m\u001b[0;34m]\u001b[0m \u001b[0;34m=\u001b[0m \u001b[0mdf_clean\u001b[0m\u001b[0;34m[\u001b[0m\u001b[0;34m'tenure'\u001b[0m\u001b[0;34m]\u001b[0m\u001b[0;34m.\u001b[0m\u001b[0mastype\u001b[0m\u001b[0;34m(\u001b[0m\u001b[0mint\u001b[0m\u001b[0;34m)\u001b[0m\u001b[0;34m\u001b[0m\u001b[0;34m\u001b[0m\u001b[0m\n\u001b[0;32m----> 2\u001b[0;31m \u001b[0mdf_clean\u001b[0m\u001b[0;34m[\u001b[0m\u001b[0;34m'TotalCharges'\u001b[0m\u001b[0;34m]\u001b[0m \u001b[0;34m=\u001b[0m \u001b[0mdf_clean\u001b[0m\u001b[0;34m[\u001b[0m\u001b[0;34m'TotalCharges'\u001b[0m\u001b[0;34m]\u001b[0m\u001b[0;34m.\u001b[0m\u001b[0mastype\u001b[0m\u001b[0;34m(\u001b[0m\u001b[0mint\u001b[0m\u001b[0;34m)\u001b[0m\u001b[0;34m\u001b[0m\u001b[0;34m\u001b[0m\u001b[0m\n\u001b[0m",
            "\u001b[0;32m/usr/local/lib/python3.6/dist-packages/pandas/core/generic.py\u001b[0m in \u001b[0;36mastype\u001b[0;34m(self, dtype, copy, errors)\u001b[0m\n\u001b[1;32m   5696\u001b[0m         \u001b[0;32melse\u001b[0m\u001b[0;34m:\u001b[0m\u001b[0;34m\u001b[0m\u001b[0;34m\u001b[0m\u001b[0m\n\u001b[1;32m   5697\u001b[0m             \u001b[0;31m# else, only a single dtype is given\u001b[0m\u001b[0;34m\u001b[0m\u001b[0;34m\u001b[0m\u001b[0;34m\u001b[0m\u001b[0m\n\u001b[0;32m-> 5698\u001b[0;31m             \u001b[0mnew_data\u001b[0m \u001b[0;34m=\u001b[0m \u001b[0mself\u001b[0m\u001b[0;34m.\u001b[0m\u001b[0m_data\u001b[0m\u001b[0;34m.\u001b[0m\u001b[0mastype\u001b[0m\u001b[0;34m(\u001b[0m\u001b[0mdtype\u001b[0m\u001b[0;34m=\u001b[0m\u001b[0mdtype\u001b[0m\u001b[0;34m,\u001b[0m \u001b[0mcopy\u001b[0m\u001b[0;34m=\u001b[0m\u001b[0mcopy\u001b[0m\u001b[0;34m,\u001b[0m \u001b[0merrors\u001b[0m\u001b[0;34m=\u001b[0m\u001b[0merrors\u001b[0m\u001b[0;34m)\u001b[0m\u001b[0;34m\u001b[0m\u001b[0;34m\u001b[0m\u001b[0m\n\u001b[0m\u001b[1;32m   5699\u001b[0m             \u001b[0;32mreturn\u001b[0m \u001b[0mself\u001b[0m\u001b[0;34m.\u001b[0m\u001b[0m_constructor\u001b[0m\u001b[0;34m(\u001b[0m\u001b[0mnew_data\u001b[0m\u001b[0;34m)\u001b[0m\u001b[0;34m.\u001b[0m\u001b[0m__finalize__\u001b[0m\u001b[0;34m(\u001b[0m\u001b[0mself\u001b[0m\u001b[0;34m)\u001b[0m\u001b[0;34m\u001b[0m\u001b[0;34m\u001b[0m\u001b[0m\n\u001b[1;32m   5700\u001b[0m \u001b[0;34m\u001b[0m\u001b[0m\n",
            "\u001b[0;32m/usr/local/lib/python3.6/dist-packages/pandas/core/internals/managers.py\u001b[0m in \u001b[0;36mastype\u001b[0;34m(self, dtype, copy, errors)\u001b[0m\n\u001b[1;32m    580\u001b[0m \u001b[0;34m\u001b[0m\u001b[0m\n\u001b[1;32m    581\u001b[0m     \u001b[0;32mdef\u001b[0m \u001b[0mastype\u001b[0m\u001b[0;34m(\u001b[0m\u001b[0mself\u001b[0m\u001b[0;34m,\u001b[0m \u001b[0mdtype\u001b[0m\u001b[0;34m,\u001b[0m \u001b[0mcopy\u001b[0m\u001b[0;34m:\u001b[0m \u001b[0mbool\u001b[0m \u001b[0;34m=\u001b[0m \u001b[0;32mFalse\u001b[0m\u001b[0;34m,\u001b[0m \u001b[0merrors\u001b[0m\u001b[0;34m:\u001b[0m \u001b[0mstr\u001b[0m \u001b[0;34m=\u001b[0m \u001b[0;34m\"raise\"\u001b[0m\u001b[0;34m)\u001b[0m\u001b[0;34m:\u001b[0m\u001b[0;34m\u001b[0m\u001b[0;34m\u001b[0m\u001b[0m\n\u001b[0;32m--> 582\u001b[0;31m         \u001b[0;32mreturn\u001b[0m \u001b[0mself\u001b[0m\u001b[0;34m.\u001b[0m\u001b[0mapply\u001b[0m\u001b[0;34m(\u001b[0m\u001b[0;34m\"astype\"\u001b[0m\u001b[0;34m,\u001b[0m \u001b[0mdtype\u001b[0m\u001b[0;34m=\u001b[0m\u001b[0mdtype\u001b[0m\u001b[0;34m,\u001b[0m \u001b[0mcopy\u001b[0m\u001b[0;34m=\u001b[0m\u001b[0mcopy\u001b[0m\u001b[0;34m,\u001b[0m \u001b[0merrors\u001b[0m\u001b[0;34m=\u001b[0m\u001b[0merrors\u001b[0m\u001b[0;34m)\u001b[0m\u001b[0;34m\u001b[0m\u001b[0;34m\u001b[0m\u001b[0m\n\u001b[0m\u001b[1;32m    583\u001b[0m \u001b[0;34m\u001b[0m\u001b[0m\n\u001b[1;32m    584\u001b[0m     \u001b[0;32mdef\u001b[0m \u001b[0mconvert\u001b[0m\u001b[0;34m(\u001b[0m\u001b[0mself\u001b[0m\u001b[0;34m,\u001b[0m \u001b[0;34m**\u001b[0m\u001b[0mkwargs\u001b[0m\u001b[0;34m)\u001b[0m\u001b[0;34m:\u001b[0m\u001b[0;34m\u001b[0m\u001b[0;34m\u001b[0m\u001b[0m\n",
            "\u001b[0;32m/usr/local/lib/python3.6/dist-packages/pandas/core/internals/managers.py\u001b[0m in \u001b[0;36mapply\u001b[0;34m(self, f, filter, **kwargs)\u001b[0m\n\u001b[1;32m    440\u001b[0m                 \u001b[0mapplied\u001b[0m \u001b[0;34m=\u001b[0m \u001b[0mb\u001b[0m\u001b[0;34m.\u001b[0m\u001b[0mapply\u001b[0m\u001b[0;34m(\u001b[0m\u001b[0mf\u001b[0m\u001b[0;34m,\u001b[0m \u001b[0;34m**\u001b[0m\u001b[0mkwargs\u001b[0m\u001b[0;34m)\u001b[0m\u001b[0;34m\u001b[0m\u001b[0;34m\u001b[0m\u001b[0m\n\u001b[1;32m    441\u001b[0m             \u001b[0;32melse\u001b[0m\u001b[0;34m:\u001b[0m\u001b[0;34m\u001b[0m\u001b[0;34m\u001b[0m\u001b[0m\n\u001b[0;32m--> 442\u001b[0;31m                 \u001b[0mapplied\u001b[0m \u001b[0;34m=\u001b[0m \u001b[0mgetattr\u001b[0m\u001b[0;34m(\u001b[0m\u001b[0mb\u001b[0m\u001b[0;34m,\u001b[0m \u001b[0mf\u001b[0m\u001b[0;34m)\u001b[0m\u001b[0;34m(\u001b[0m\u001b[0;34m**\u001b[0m\u001b[0mkwargs\u001b[0m\u001b[0;34m)\u001b[0m\u001b[0;34m\u001b[0m\u001b[0;34m\u001b[0m\u001b[0m\n\u001b[0m\u001b[1;32m    443\u001b[0m             \u001b[0mresult_blocks\u001b[0m \u001b[0;34m=\u001b[0m \u001b[0m_extend_blocks\u001b[0m\u001b[0;34m(\u001b[0m\u001b[0mapplied\u001b[0m\u001b[0;34m,\u001b[0m \u001b[0mresult_blocks\u001b[0m\u001b[0;34m)\u001b[0m\u001b[0;34m\u001b[0m\u001b[0;34m\u001b[0m\u001b[0m\n\u001b[1;32m    444\u001b[0m \u001b[0;34m\u001b[0m\u001b[0m\n",
            "\u001b[0;32m/usr/local/lib/python3.6/dist-packages/pandas/core/internals/blocks.py\u001b[0m in \u001b[0;36mastype\u001b[0;34m(self, dtype, copy, errors)\u001b[0m\n\u001b[1;32m    623\u001b[0m             \u001b[0mvals1d\u001b[0m \u001b[0;34m=\u001b[0m \u001b[0mvalues\u001b[0m\u001b[0;34m.\u001b[0m\u001b[0mravel\u001b[0m\u001b[0;34m(\u001b[0m\u001b[0;34m)\u001b[0m\u001b[0;34m\u001b[0m\u001b[0;34m\u001b[0m\u001b[0m\n\u001b[1;32m    624\u001b[0m             \u001b[0;32mtry\u001b[0m\u001b[0;34m:\u001b[0m\u001b[0;34m\u001b[0m\u001b[0;34m\u001b[0m\u001b[0m\n\u001b[0;32m--> 625\u001b[0;31m                 \u001b[0mvalues\u001b[0m \u001b[0;34m=\u001b[0m \u001b[0mastype_nansafe\u001b[0m\u001b[0;34m(\u001b[0m\u001b[0mvals1d\u001b[0m\u001b[0;34m,\u001b[0m \u001b[0mdtype\u001b[0m\u001b[0;34m,\u001b[0m \u001b[0mcopy\u001b[0m\u001b[0;34m=\u001b[0m\u001b[0;32mTrue\u001b[0m\u001b[0;34m)\u001b[0m\u001b[0;34m\u001b[0m\u001b[0;34m\u001b[0m\u001b[0m\n\u001b[0m\u001b[1;32m    626\u001b[0m             \u001b[0;32mexcept\u001b[0m \u001b[0;34m(\u001b[0m\u001b[0mValueError\u001b[0m\u001b[0;34m,\u001b[0m \u001b[0mTypeError\u001b[0m\u001b[0;34m)\u001b[0m\u001b[0;34m:\u001b[0m\u001b[0;34m\u001b[0m\u001b[0;34m\u001b[0m\u001b[0m\n\u001b[1;32m    627\u001b[0m                 \u001b[0;31m# e.g. astype_nansafe can fail on object-dtype of strings\u001b[0m\u001b[0;34m\u001b[0m\u001b[0;34m\u001b[0m\u001b[0;34m\u001b[0m\u001b[0m\n",
            "\u001b[0;32m/usr/local/lib/python3.6/dist-packages/pandas/core/dtypes/cast.py\u001b[0m in \u001b[0;36mastype_nansafe\u001b[0;34m(arr, dtype, copy, skipna)\u001b[0m\n\u001b[1;32m    872\u001b[0m         \u001b[0;31m# work around NumPy brokenness, #1987\u001b[0m\u001b[0;34m\u001b[0m\u001b[0;34m\u001b[0m\u001b[0;34m\u001b[0m\u001b[0m\n\u001b[1;32m    873\u001b[0m         \u001b[0;32mif\u001b[0m \u001b[0mnp\u001b[0m\u001b[0;34m.\u001b[0m\u001b[0missubdtype\u001b[0m\u001b[0;34m(\u001b[0m\u001b[0mdtype\u001b[0m\u001b[0;34m.\u001b[0m\u001b[0mtype\u001b[0m\u001b[0;34m,\u001b[0m \u001b[0mnp\u001b[0m\u001b[0;34m.\u001b[0m\u001b[0minteger\u001b[0m\u001b[0;34m)\u001b[0m\u001b[0;34m:\u001b[0m\u001b[0;34m\u001b[0m\u001b[0;34m\u001b[0m\u001b[0m\n\u001b[0;32m--> 874\u001b[0;31m             \u001b[0;32mreturn\u001b[0m \u001b[0mlib\u001b[0m\u001b[0;34m.\u001b[0m\u001b[0mastype_intsafe\u001b[0m\u001b[0;34m(\u001b[0m\u001b[0marr\u001b[0m\u001b[0;34m.\u001b[0m\u001b[0mravel\u001b[0m\u001b[0;34m(\u001b[0m\u001b[0;34m)\u001b[0m\u001b[0;34m,\u001b[0m \u001b[0mdtype\u001b[0m\u001b[0;34m)\u001b[0m\u001b[0;34m.\u001b[0m\u001b[0mreshape\u001b[0m\u001b[0;34m(\u001b[0m\u001b[0marr\u001b[0m\u001b[0;34m.\u001b[0m\u001b[0mshape\u001b[0m\u001b[0;34m)\u001b[0m\u001b[0;34m\u001b[0m\u001b[0;34m\u001b[0m\u001b[0m\n\u001b[0m\u001b[1;32m    875\u001b[0m \u001b[0;34m\u001b[0m\u001b[0m\n\u001b[1;32m    876\u001b[0m         \u001b[0;31m# if we have a datetime/timedelta array of objects\u001b[0m\u001b[0;34m\u001b[0m\u001b[0;34m\u001b[0m\u001b[0;34m\u001b[0m\u001b[0m\n",
            "\u001b[0;32mpandas/_libs/lib.pyx\u001b[0m in \u001b[0;36mpandas._libs.lib.astype_intsafe\u001b[0;34m()\u001b[0m\n",
            "\u001b[0;31mValueError\u001b[0m: invalid literal for int() with base 10: '29.85'"
          ]
        }
      ]
    },
    {
      "cell_type": "code",
      "metadata": {
        "id": "nbjK5LsgcSo6",
        "colab_type": "code",
        "colab": {
          "base_uri": "https://localhost:8080/",
          "height": 328
        },
        "outputId": "4ed3c820-f600-4290-f236-022766dbd791"
      },
      "source": [
        "df_clean['TotalCharges'].astype(float)"
      ],
      "execution_count": null,
      "outputs": [
        {
          "output_type": "error",
          "ename": "ValueError",
          "evalue": "ignored",
          "traceback": [
            "\u001b[0;31m---------------------------------------------------------------------------\u001b[0m",
            "\u001b[0;31mValueError\u001b[0m                                Traceback (most recent call last)",
            "\u001b[0;32m<ipython-input-154-af0a41b1930f>\u001b[0m in \u001b[0;36m<module>\u001b[0;34m()\u001b[0m\n\u001b[0;32m----> 1\u001b[0;31m \u001b[0mdf_clean\u001b[0m\u001b[0;34m[\u001b[0m\u001b[0;34m'TotalCharges'\u001b[0m\u001b[0;34m]\u001b[0m\u001b[0;34m.\u001b[0m\u001b[0mastype\u001b[0m\u001b[0;34m(\u001b[0m\u001b[0mfloat\u001b[0m\u001b[0;34m)\u001b[0m\u001b[0;34m\u001b[0m\u001b[0;34m\u001b[0m\u001b[0m\n\u001b[0m",
            "\u001b[0;32m/usr/local/lib/python3.6/dist-packages/pandas/core/generic.py\u001b[0m in \u001b[0;36mastype\u001b[0;34m(self, dtype, copy, errors)\u001b[0m\n\u001b[1;32m   5696\u001b[0m         \u001b[0;32melse\u001b[0m\u001b[0;34m:\u001b[0m\u001b[0;34m\u001b[0m\u001b[0;34m\u001b[0m\u001b[0m\n\u001b[1;32m   5697\u001b[0m             \u001b[0;31m# else, only a single dtype is given\u001b[0m\u001b[0;34m\u001b[0m\u001b[0;34m\u001b[0m\u001b[0;34m\u001b[0m\u001b[0m\n\u001b[0;32m-> 5698\u001b[0;31m             \u001b[0mnew_data\u001b[0m \u001b[0;34m=\u001b[0m \u001b[0mself\u001b[0m\u001b[0;34m.\u001b[0m\u001b[0m_data\u001b[0m\u001b[0;34m.\u001b[0m\u001b[0mastype\u001b[0m\u001b[0;34m(\u001b[0m\u001b[0mdtype\u001b[0m\u001b[0;34m=\u001b[0m\u001b[0mdtype\u001b[0m\u001b[0;34m,\u001b[0m \u001b[0mcopy\u001b[0m\u001b[0;34m=\u001b[0m\u001b[0mcopy\u001b[0m\u001b[0;34m,\u001b[0m \u001b[0merrors\u001b[0m\u001b[0;34m=\u001b[0m\u001b[0merrors\u001b[0m\u001b[0;34m)\u001b[0m\u001b[0;34m\u001b[0m\u001b[0;34m\u001b[0m\u001b[0m\n\u001b[0m\u001b[1;32m   5699\u001b[0m             \u001b[0;32mreturn\u001b[0m \u001b[0mself\u001b[0m\u001b[0;34m.\u001b[0m\u001b[0m_constructor\u001b[0m\u001b[0;34m(\u001b[0m\u001b[0mnew_data\u001b[0m\u001b[0;34m)\u001b[0m\u001b[0;34m.\u001b[0m\u001b[0m__finalize__\u001b[0m\u001b[0;34m(\u001b[0m\u001b[0mself\u001b[0m\u001b[0;34m)\u001b[0m\u001b[0;34m\u001b[0m\u001b[0;34m\u001b[0m\u001b[0m\n\u001b[1;32m   5700\u001b[0m \u001b[0;34m\u001b[0m\u001b[0m\n",
            "\u001b[0;32m/usr/local/lib/python3.6/dist-packages/pandas/core/internals/managers.py\u001b[0m in \u001b[0;36mastype\u001b[0;34m(self, dtype, copy, errors)\u001b[0m\n\u001b[1;32m    580\u001b[0m \u001b[0;34m\u001b[0m\u001b[0m\n\u001b[1;32m    581\u001b[0m     \u001b[0;32mdef\u001b[0m \u001b[0mastype\u001b[0m\u001b[0;34m(\u001b[0m\u001b[0mself\u001b[0m\u001b[0;34m,\u001b[0m \u001b[0mdtype\u001b[0m\u001b[0;34m,\u001b[0m \u001b[0mcopy\u001b[0m\u001b[0;34m:\u001b[0m \u001b[0mbool\u001b[0m \u001b[0;34m=\u001b[0m \u001b[0;32mFalse\u001b[0m\u001b[0;34m,\u001b[0m \u001b[0merrors\u001b[0m\u001b[0;34m:\u001b[0m \u001b[0mstr\u001b[0m \u001b[0;34m=\u001b[0m \u001b[0;34m\"raise\"\u001b[0m\u001b[0;34m)\u001b[0m\u001b[0;34m:\u001b[0m\u001b[0;34m\u001b[0m\u001b[0;34m\u001b[0m\u001b[0m\n\u001b[0;32m--> 582\u001b[0;31m         \u001b[0;32mreturn\u001b[0m \u001b[0mself\u001b[0m\u001b[0;34m.\u001b[0m\u001b[0mapply\u001b[0m\u001b[0;34m(\u001b[0m\u001b[0;34m\"astype\"\u001b[0m\u001b[0;34m,\u001b[0m \u001b[0mdtype\u001b[0m\u001b[0;34m=\u001b[0m\u001b[0mdtype\u001b[0m\u001b[0;34m,\u001b[0m \u001b[0mcopy\u001b[0m\u001b[0;34m=\u001b[0m\u001b[0mcopy\u001b[0m\u001b[0;34m,\u001b[0m \u001b[0merrors\u001b[0m\u001b[0;34m=\u001b[0m\u001b[0merrors\u001b[0m\u001b[0;34m)\u001b[0m\u001b[0;34m\u001b[0m\u001b[0;34m\u001b[0m\u001b[0m\n\u001b[0m\u001b[1;32m    583\u001b[0m \u001b[0;34m\u001b[0m\u001b[0m\n\u001b[1;32m    584\u001b[0m     \u001b[0;32mdef\u001b[0m \u001b[0mconvert\u001b[0m\u001b[0;34m(\u001b[0m\u001b[0mself\u001b[0m\u001b[0;34m,\u001b[0m \u001b[0;34m**\u001b[0m\u001b[0mkwargs\u001b[0m\u001b[0;34m)\u001b[0m\u001b[0;34m:\u001b[0m\u001b[0;34m\u001b[0m\u001b[0;34m\u001b[0m\u001b[0m\n",
            "\u001b[0;32m/usr/local/lib/python3.6/dist-packages/pandas/core/internals/managers.py\u001b[0m in \u001b[0;36mapply\u001b[0;34m(self, f, filter, **kwargs)\u001b[0m\n\u001b[1;32m    440\u001b[0m                 \u001b[0mapplied\u001b[0m \u001b[0;34m=\u001b[0m \u001b[0mb\u001b[0m\u001b[0;34m.\u001b[0m\u001b[0mapply\u001b[0m\u001b[0;34m(\u001b[0m\u001b[0mf\u001b[0m\u001b[0;34m,\u001b[0m \u001b[0;34m**\u001b[0m\u001b[0mkwargs\u001b[0m\u001b[0;34m)\u001b[0m\u001b[0;34m\u001b[0m\u001b[0;34m\u001b[0m\u001b[0m\n\u001b[1;32m    441\u001b[0m             \u001b[0;32melse\u001b[0m\u001b[0;34m:\u001b[0m\u001b[0;34m\u001b[0m\u001b[0;34m\u001b[0m\u001b[0m\n\u001b[0;32m--> 442\u001b[0;31m                 \u001b[0mapplied\u001b[0m \u001b[0;34m=\u001b[0m \u001b[0mgetattr\u001b[0m\u001b[0;34m(\u001b[0m\u001b[0mb\u001b[0m\u001b[0;34m,\u001b[0m \u001b[0mf\u001b[0m\u001b[0;34m)\u001b[0m\u001b[0;34m(\u001b[0m\u001b[0;34m**\u001b[0m\u001b[0mkwargs\u001b[0m\u001b[0;34m)\u001b[0m\u001b[0;34m\u001b[0m\u001b[0;34m\u001b[0m\u001b[0m\n\u001b[0m\u001b[1;32m    443\u001b[0m             \u001b[0mresult_blocks\u001b[0m \u001b[0;34m=\u001b[0m \u001b[0m_extend_blocks\u001b[0m\u001b[0;34m(\u001b[0m\u001b[0mapplied\u001b[0m\u001b[0;34m,\u001b[0m \u001b[0mresult_blocks\u001b[0m\u001b[0;34m)\u001b[0m\u001b[0;34m\u001b[0m\u001b[0;34m\u001b[0m\u001b[0m\n\u001b[1;32m    444\u001b[0m \u001b[0;34m\u001b[0m\u001b[0m\n",
            "\u001b[0;32m/usr/local/lib/python3.6/dist-packages/pandas/core/internals/blocks.py\u001b[0m in \u001b[0;36mastype\u001b[0;34m(self, dtype, copy, errors)\u001b[0m\n\u001b[1;32m    623\u001b[0m             \u001b[0mvals1d\u001b[0m \u001b[0;34m=\u001b[0m \u001b[0mvalues\u001b[0m\u001b[0;34m.\u001b[0m\u001b[0mravel\u001b[0m\u001b[0;34m(\u001b[0m\u001b[0;34m)\u001b[0m\u001b[0;34m\u001b[0m\u001b[0;34m\u001b[0m\u001b[0m\n\u001b[1;32m    624\u001b[0m             \u001b[0;32mtry\u001b[0m\u001b[0;34m:\u001b[0m\u001b[0;34m\u001b[0m\u001b[0;34m\u001b[0m\u001b[0m\n\u001b[0;32m--> 625\u001b[0;31m                 \u001b[0mvalues\u001b[0m \u001b[0;34m=\u001b[0m \u001b[0mastype_nansafe\u001b[0m\u001b[0;34m(\u001b[0m\u001b[0mvals1d\u001b[0m\u001b[0;34m,\u001b[0m \u001b[0mdtype\u001b[0m\u001b[0;34m,\u001b[0m \u001b[0mcopy\u001b[0m\u001b[0;34m=\u001b[0m\u001b[0;32mTrue\u001b[0m\u001b[0;34m)\u001b[0m\u001b[0;34m\u001b[0m\u001b[0;34m\u001b[0m\u001b[0m\n\u001b[0m\u001b[1;32m    626\u001b[0m             \u001b[0;32mexcept\u001b[0m \u001b[0;34m(\u001b[0m\u001b[0mValueError\u001b[0m\u001b[0;34m,\u001b[0m \u001b[0mTypeError\u001b[0m\u001b[0;34m)\u001b[0m\u001b[0;34m:\u001b[0m\u001b[0;34m\u001b[0m\u001b[0;34m\u001b[0m\u001b[0m\n\u001b[1;32m    627\u001b[0m                 \u001b[0;31m# e.g. astype_nansafe can fail on object-dtype of strings\u001b[0m\u001b[0;34m\u001b[0m\u001b[0;34m\u001b[0m\u001b[0;34m\u001b[0m\u001b[0m\n",
            "\u001b[0;32m/usr/local/lib/python3.6/dist-packages/pandas/core/dtypes/cast.py\u001b[0m in \u001b[0;36mastype_nansafe\u001b[0;34m(arr, dtype, copy, skipna)\u001b[0m\n\u001b[1;32m    895\u001b[0m     \u001b[0;32mif\u001b[0m \u001b[0mcopy\u001b[0m \u001b[0;32mor\u001b[0m \u001b[0mis_object_dtype\u001b[0m\u001b[0;34m(\u001b[0m\u001b[0marr\u001b[0m\u001b[0;34m)\u001b[0m \u001b[0;32mor\u001b[0m \u001b[0mis_object_dtype\u001b[0m\u001b[0;34m(\u001b[0m\u001b[0mdtype\u001b[0m\u001b[0;34m)\u001b[0m\u001b[0;34m:\u001b[0m\u001b[0;34m\u001b[0m\u001b[0;34m\u001b[0m\u001b[0m\n\u001b[1;32m    896\u001b[0m         \u001b[0;31m# Explicit copy, or required since NumPy can't view from / to object.\u001b[0m\u001b[0;34m\u001b[0m\u001b[0;34m\u001b[0m\u001b[0;34m\u001b[0m\u001b[0m\n\u001b[0;32m--> 897\u001b[0;31m         \u001b[0;32mreturn\u001b[0m \u001b[0marr\u001b[0m\u001b[0;34m.\u001b[0m\u001b[0mastype\u001b[0m\u001b[0;34m(\u001b[0m\u001b[0mdtype\u001b[0m\u001b[0;34m,\u001b[0m \u001b[0mcopy\u001b[0m\u001b[0;34m=\u001b[0m\u001b[0;32mTrue\u001b[0m\u001b[0;34m)\u001b[0m\u001b[0;34m\u001b[0m\u001b[0;34m\u001b[0m\u001b[0m\n\u001b[0m\u001b[1;32m    898\u001b[0m \u001b[0;34m\u001b[0m\u001b[0m\n\u001b[1;32m    899\u001b[0m     \u001b[0;32mreturn\u001b[0m \u001b[0marr\u001b[0m\u001b[0;34m.\u001b[0m\u001b[0mview\u001b[0m\u001b[0;34m(\u001b[0m\u001b[0mdtype\u001b[0m\u001b[0;34m)\u001b[0m\u001b[0;34m\u001b[0m\u001b[0;34m\u001b[0m\u001b[0m\n",
            "\u001b[0;31mValueError\u001b[0m: could not convert string to float: "
          ]
        }
      ]
    },
    {
      "cell_type": "code",
      "metadata": {
        "id": "zmd88Lq2bMiL",
        "colab_type": "code",
        "colab": {}
      },
      "source": [
        "totalcharge = []\n",
        "error_totalcharge = []\n",
        "for index, value in enumerate(df['TotalCharges']):\n",
        "    try:\n",
        "        if pd.isna(value):\n",
        "            totalcharge.append(np.nan)\n",
        "        else:\n",
        "            totalcharge.append(float(value))\n",
        "    except:\n",
        "        totalcharge.append(value)\n",
        "        error_totalcharge.append(index)"
      ],
      "execution_count": null,
      "outputs": []
    },
    {
      "cell_type": "code",
      "metadata": {
        "id": "otyaiOlXbwNN",
        "colab_type": "code",
        "colab": {
          "base_uri": "https://localhost:8080/",
          "height": 34
        },
        "outputId": "32496bad-f1a8-471c-845e-428ec019fab6"
      },
      "source": [
        "df.iloc[error_totalcharge]['TotalCharges'].shape"
      ],
      "execution_count": null,
      "outputs": [
        {
          "output_type": "execute_result",
          "data": {
            "text/plain": [
              "(11,)"
            ]
          },
          "metadata": {
            "tags": []
          },
          "execution_count": 162
        }
      ]
    },
    {
      "cell_type": "markdown",
      "metadata": {
        "id": "fRYKZo5hdmAE",
        "colab_type": "text"
      },
      "source": [
        "## INI MISSING VALUE PADA KOLOM TOTALCHARGES"
      ]
    },
    {
      "cell_type": "markdown",
      "metadata": {
        "id": "qdAUHb8FWp2w",
        "colab_type": "text"
      },
      "source": [
        "## 2. Missing Value"
      ]
    },
    {
      "cell_type": "code",
      "metadata": {
        "id": "b-rsEb1VW0Ei",
        "colab_type": "code",
        "colab": {
          "base_uri": "https://localhost:8080/",
          "height": 502
        },
        "outputId": "b6110a11-9983-47f2-a76f-44298a8284e3"
      },
      "source": [
        "df.info()"
      ],
      "execution_count": null,
      "outputs": [
        {
          "output_type": "stream",
          "text": [
            "<class 'pandas.core.frame.DataFrame'>\n",
            "RangeIndex: 7043 entries, 0 to 7042\n",
            "Data columns (total 21 columns):\n",
            " #   Column            Non-Null Count  Dtype  \n",
            "---  ------            --------------  -----  \n",
            " 0   customerID        7043 non-null   object \n",
            " 1   gender            7043 non-null   object \n",
            " 2   SeniorCitizen     7043 non-null   int64  \n",
            " 3   Partner           7043 non-null   object \n",
            " 4   Dependents        7043 non-null   object \n",
            " 5   tenure            7043 non-null   int64  \n",
            " 6   PhoneService      7043 non-null   object \n",
            " 7   MultipleLines     7043 non-null   object \n",
            " 8   InternetService   7043 non-null   object \n",
            " 9   OnlineSecurity    7043 non-null   object \n",
            " 10  OnlineBackup      7043 non-null   object \n",
            " 11  DeviceProtection  7043 non-null   object \n",
            " 12  TechSupport       7043 non-null   object \n",
            " 13  StreamingTV       7043 non-null   object \n",
            " 14  StreamingMovies   7043 non-null   object \n",
            " 15  Contract          7043 non-null   object \n",
            " 16  PaperlessBilling  7043 non-null   object \n",
            " 17  PaymentMethod     7043 non-null   object \n",
            " 18  MonthlyCharges    7043 non-null   float64\n",
            " 19  TotalCharges      7043 non-null   object \n",
            " 20  Churn             7043 non-null   object \n",
            "dtypes: float64(1), int64(2), object(18)\n",
            "memory usage: 1.1+ MB\n"
          ],
          "name": "stdout"
        }
      ]
    },
    {
      "cell_type": "code",
      "metadata": {
        "id": "WrXdDPwJXHAT",
        "colab_type": "code",
        "colab": {
          "base_uri": "https://localhost:8080/",
          "height": 34
        },
        "outputId": "710897e9-81c2-40b3-e55a-f2ead568170d"
      },
      "source": [
        "df.shape"
      ],
      "execution_count": null,
      "outputs": [
        {
          "output_type": "execute_result",
          "data": {
            "text/plain": [
              "(7043, 21)"
            ]
          },
          "metadata": {
            "tags": []
          },
          "execution_count": 129
        }
      ]
    },
    {
      "cell_type": "code",
      "metadata": {
        "id": "LbzyimWIcI0L",
        "colab_type": "code",
        "colab": {
          "base_uri": "https://localhost:8080/",
          "height": 34
        },
        "outputId": "75080de1-a6b4-435c-e6a7-833cb4eea2e5"
      },
      "source": [
        "float(2)"
      ],
      "execution_count": null,
      "outputs": [
        {
          "output_type": "execute_result",
          "data": {
            "text/plain": [
              "2.0"
            ]
          },
          "metadata": {
            "tags": []
          },
          "execution_count": 150
        }
      ]
    },
    {
      "cell_type": "code",
      "metadata": {
        "id": "voSzkeXiXnA1",
        "colab_type": "code",
        "colab": {
          "base_uri": "https://localhost:8080/",
          "height": 693
        },
        "outputId": "e0eac151-0e70-436e-8ba1-bd915b909a43"
      },
      "source": [
        "dfDesc[['dataFeatures', 'null']]"
      ],
      "execution_count": null,
      "outputs": [
        {
          "output_type": "execute_result",
          "data": {
            "text/html": [
              "<div>\n",
              "<style scoped>\n",
              "    .dataframe tbody tr th:only-of-type {\n",
              "        vertical-align: middle;\n",
              "    }\n",
              "\n",
              "    .dataframe tbody tr th {\n",
              "        vertical-align: top;\n",
              "    }\n",
              "\n",
              "    .dataframe thead th {\n",
              "        text-align: right;\n",
              "    }\n",
              "</style>\n",
              "<table border=\"1\" class=\"dataframe\">\n",
              "  <thead>\n",
              "    <tr style=\"text-align: right;\">\n",
              "      <th></th>\n",
              "      <th>dataFeatures</th>\n",
              "      <th>null</th>\n",
              "    </tr>\n",
              "  </thead>\n",
              "  <tbody>\n",
              "    <tr>\n",
              "      <th>0</th>\n",
              "      <td>customerID</td>\n",
              "      <td>0</td>\n",
              "    </tr>\n",
              "    <tr>\n",
              "      <th>1</th>\n",
              "      <td>gender</td>\n",
              "      <td>0</td>\n",
              "    </tr>\n",
              "    <tr>\n",
              "      <th>2</th>\n",
              "      <td>SeniorCitizen</td>\n",
              "      <td>0</td>\n",
              "    </tr>\n",
              "    <tr>\n",
              "      <th>3</th>\n",
              "      <td>Partner</td>\n",
              "      <td>0</td>\n",
              "    </tr>\n",
              "    <tr>\n",
              "      <th>4</th>\n",
              "      <td>Dependents</td>\n",
              "      <td>0</td>\n",
              "    </tr>\n",
              "    <tr>\n",
              "      <th>5</th>\n",
              "      <td>tenure</td>\n",
              "      <td>0</td>\n",
              "    </tr>\n",
              "    <tr>\n",
              "      <th>6</th>\n",
              "      <td>PhoneService</td>\n",
              "      <td>0</td>\n",
              "    </tr>\n",
              "    <tr>\n",
              "      <th>7</th>\n",
              "      <td>MultipleLines</td>\n",
              "      <td>0</td>\n",
              "    </tr>\n",
              "    <tr>\n",
              "      <th>8</th>\n",
              "      <td>InternetService</td>\n",
              "      <td>0</td>\n",
              "    </tr>\n",
              "    <tr>\n",
              "      <th>9</th>\n",
              "      <td>OnlineSecurity</td>\n",
              "      <td>0</td>\n",
              "    </tr>\n",
              "    <tr>\n",
              "      <th>10</th>\n",
              "      <td>OnlineBackup</td>\n",
              "      <td>0</td>\n",
              "    </tr>\n",
              "    <tr>\n",
              "      <th>11</th>\n",
              "      <td>DeviceProtection</td>\n",
              "      <td>0</td>\n",
              "    </tr>\n",
              "    <tr>\n",
              "      <th>12</th>\n",
              "      <td>TechSupport</td>\n",
              "      <td>0</td>\n",
              "    </tr>\n",
              "    <tr>\n",
              "      <th>13</th>\n",
              "      <td>StreamingTV</td>\n",
              "      <td>0</td>\n",
              "    </tr>\n",
              "    <tr>\n",
              "      <th>14</th>\n",
              "      <td>StreamingMovies</td>\n",
              "      <td>0</td>\n",
              "    </tr>\n",
              "    <tr>\n",
              "      <th>15</th>\n",
              "      <td>Contract</td>\n",
              "      <td>0</td>\n",
              "    </tr>\n",
              "    <tr>\n",
              "      <th>16</th>\n",
              "      <td>PaperlessBilling</td>\n",
              "      <td>0</td>\n",
              "    </tr>\n",
              "    <tr>\n",
              "      <th>17</th>\n",
              "      <td>PaymentMethod</td>\n",
              "      <td>0</td>\n",
              "    </tr>\n",
              "    <tr>\n",
              "      <th>18</th>\n",
              "      <td>MonthlyCharges</td>\n",
              "      <td>0</td>\n",
              "    </tr>\n",
              "    <tr>\n",
              "      <th>19</th>\n",
              "      <td>TotalCharges</td>\n",
              "      <td>0</td>\n",
              "    </tr>\n",
              "    <tr>\n",
              "      <th>20</th>\n",
              "      <td>Churn</td>\n",
              "      <td>0</td>\n",
              "    </tr>\n",
              "  </tbody>\n",
              "</table>\n",
              "</div>"
            ],
            "text/plain": [
              "        dataFeatures  null\n",
              "0         customerID     0\n",
              "1             gender     0\n",
              "2      SeniorCitizen     0\n",
              "3            Partner     0\n",
              "4         Dependents     0\n",
              "5             tenure     0\n",
              "6       PhoneService     0\n",
              "7      MultipleLines     0\n",
              "8    InternetService     0\n",
              "9     OnlineSecurity     0\n",
              "10      OnlineBackup     0\n",
              "11  DeviceProtection     0\n",
              "12       TechSupport     0\n",
              "13       StreamingTV     0\n",
              "14   StreamingMovies     0\n",
              "15          Contract     0\n",
              "16  PaperlessBilling     0\n",
              "17     PaymentMethod     0\n",
              "18    MonthlyCharges     0\n",
              "19      TotalCharges     0\n",
              "20             Churn     0"
            ]
          },
          "metadata": {
            "tags": []
          },
          "execution_count": 133
        }
      ]
    },
    {
      "cell_type": "code",
      "metadata": {
        "id": "Ir5G84fzeXU4",
        "colab_type": "code",
        "colab": {}
      },
      "source": [
        "df_clean.drop(error_totalcharge, inplace = True)"
      ],
      "execution_count": null,
      "outputs": []
    },
    {
      "cell_type": "code",
      "metadata": {
        "id": "3hK4Rouhrbgu",
        "colab_type": "code",
        "colab": {}
      },
      "source": [
        "df_clean['TotalCharges'] = df_clean['TotalCharges'].astype(float)"
      ],
      "execution_count": null,
      "outputs": []
    },
    {
      "cell_type": "markdown",
      "metadata": {
        "id": "tgWY-S_ZXNX9",
        "colab_type": "text"
      },
      "source": [
        "### **CONC**: Kalau dilihat dari dfDesc yang sudah dilakukan sebelumnya, tidak terdapat missing value. Namun, ada satu hal yang terlupakan oleh saya yaitu pada kolom TotalCharge yang error jika di-reformat sebagai int atau float. Ada beberapa nilai yang hanya diisi '[space]' <br>\n",
        "Yang menurut saya bisa dilakukan untuk missing value pada totalcharge yaitu tidak memakai baris tersebut. <br>\n",
        "Pertimbangan:\n",
        "- Hanya ada 11 dari 7043 baris. \n",
        "- Jika diisi dari rata-rata pembayaran sepertinya tidak bisa. "
      ]
    },
    {
      "cell_type": "markdown",
      "metadata": {
        "id": "wtRtc6xRiZRG",
        "colab_type": "text"
      },
      "source": [
        "#Q2: Data Visualization (35 point)\n",
        "\n",
        "##1. Tampilkan visualisasi LINE CHART variabel apapun yang kamu inginkan. Lalu, analisis hasilnya.\n",
        "\n",
        "##2. Tampilkan visualisasi BOX PLOT dari variabel apapun yang kamu inginkan TERHADAP target variabel \"Churn Or Not Churn\". Lalu, analisis hasilnya. CONTOH GAMBARANNYA SEPERTI DI BAWAH INI.\n",
        "![image.png](data:image/png;base64,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)\n",
        "\n",
        "##3. Tampilkan visualisasi HISTOGRAM dengan variabel apapun yang kamu inginkan TERHADAP target variabel \"Churn Or Not Churn\". CONTOH GAMBAR SEBAGAI BERIKUT.\n",
        "\n",
        "![image.png](data:image/png;base64,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)\n"
      ]
    },
    {
      "cell_type": "code",
      "metadata": {
        "id": "XdU6kG7jZRyO",
        "colab_type": "code",
        "colab": {}
      },
      "source": [
        "import matplotlib.pyplot as plt\n",
        "import seaborn as sns\n",
        "%matplotlib inline"
      ],
      "execution_count": null,
      "outputs": []
    },
    {
      "cell_type": "markdown",
      "metadata": {
        "id": "PZw6vzpaYLyE",
        "colab_type": "text"
      },
      "source": [
        "## 1. LINE CHART"
      ]
    },
    {
      "cell_type": "markdown",
      "metadata": {
        "id": "JbsLGi4vudTr",
        "colab_type": "text"
      },
      "source": [
        "Bingung. Linechart apa terhadap apa ya"
      ]
    },
    {
      "cell_type": "markdown",
      "metadata": {
        "id": "62T_dPc3ZG2E",
        "colab_type": "text"
      },
      "source": [
        "## 2. BOXPLOT"
      ]
    },
    {
      "cell_type": "code",
      "metadata": {
        "id": "B-C9dVJzZK9h",
        "colab_type": "code",
        "colab": {
          "base_uri": "https://localhost:8080/",
          "height": 296
        },
        "outputId": "00f0d846-b73c-4c95-b1d0-1c95a8d37298"
      },
      "source": [
        "sns.boxplot(x = 'Churn', y = 'MonthlyCharges', data = df)"
      ],
      "execution_count": null,
      "outputs": [
        {
          "output_type": "execute_result",
          "data": {
            "text/plain": [
              "<matplotlib.axes._subplots.AxesSubplot at 0x7f3cb4ad1ef0>"
            ]
          },
          "metadata": {
            "tags": []
          },
          "execution_count": 139
        },
        {
          "output_type": "display_data",
          "data": {
            "image/png": "[encoded data removed]",
            "text/plain": [
              "<Figure size 432x288 with 1 Axes>"
            ]
          },
          "metadata": {
            "tags": [],
            "needs_background": "light"
          }
        }
      ]
    },
    {
      "cell_type": "markdown",
      "metadata": {
        "id": "IPJ6g2h6ujxD",
        "colab_type": "text"
      },
      "source": [
        "Rata-rata orang yang tidak akan meninggalkan produk kita menghabiskan 63 USD (tidak ada keterangan mata uang) dan yang meninggalkan justru spending lebih banyak, yaitu 80 USD"
      ]
    },
    {
      "cell_type": "markdown",
      "metadata": {
        "id": "XvQUnxwOaJIP",
        "colab_type": "text"
      },
      "source": [
        "## HISTOGRAM"
      ]
    },
    {
      "cell_type": "code",
      "metadata": {
        "id": "4iH-aIxosWkF",
        "colab_type": "code",
        "colab": {
          "base_uri": "https://localhost:8080/",
          "height": 404
        },
        "outputId": "2225916c-2ec4-4dc6-f434-00a156c96f79"
      },
      "source": [
        "sns.pairplot(df_clean[['MonthlyCharges', 'TotalCharges', 'Churn']], hue = 'Churn', palette = 'coolwarm')"
      ],
      "execution_count": null,
      "outputs": [
        {
          "output_type": "execute_result",
          "data": {
            "text/plain": [
              "<seaborn.axisgrid.PairGrid at 0x7f3c9a528780>"
            ]
          },
          "metadata": {
            "tags": []
          },
          "execution_count": 267
        },
        {
          "output_type": "display_data",
          "data": {
            "image/png": "[encoded data removed]",
            "text/plain": [
              "<Figure size 402.375x360 with 6 Axes>"
            ]
          },
          "metadata": {
            "tags": [],
            "needs_background": "light"
          }
        }
      ]
    },
    {
      "cell_type": "markdown",
      "metadata": {
        "id": "F2ZA-lt_s-Wm",
        "colab_type": "text"
      },
      "source": [
        "Dari histogram di atas, disimpulkan bahwa:\n",
        "1. Semakin kecil biaya yang dihabiskan perbulan, semakin besar peluang customer untuk pergi\n",
        "2. Untuk TotalCharge kita tidak bisa menentukannya. Karna mau nilai TotalChargenya besar ataupun kecil, keduanya bisa berkemungkinan pergi/tidak"
      ]
    },
    {
      "cell_type": "markdown",
      "metadata": {
        "id": "tMHXdqeCkbR-",
        "colab_type": "text"
      },
      "source": [
        "#Q3: Classification Modelling (20 point)\n",
        "\n",
        "## **Tujuan**: Memprediksi apakah customer akan churn atau tidak churn. Kolom target variabel berjudul \"Churn\".\n",
        "\n",
        "## **Metric evaluation**: Tergantung pembuat modelling, yaitu kamu. Gunakan alasan yang tepat mengapa memilih metric evaluation tersebut. Beberapa contoh metric evaluation -> Accuracy, Precision, Recall, etc.\n",
        "\n",
        "## **Algoritma**: Buatlah modelling dengan minimal 2 algoritma yang berbeda. Contoh: Logistic regression & random forest. Semakin banyak algoritma yang digunakan, maka semakin bisa membandingkan kebaikan model tersebut.\n",
        "\n",
        "## **Expected Output**: Modelling & metric evaluation.\n",
        "\n"
      ]
    },
    {
      "cell_type": "markdown",
      "metadata": {
        "id": "_4U1-L4qh964",
        "colab_type": "text"
      },
      "source": [
        "Untuk metric evaluation yang akan saya lihat adalah nilai recall karna di awal deskripsi, kita menginginkan agar customer tidak meninggalkan kita. Maka yang harus diperhatikan adalah seberapa akurat kita menebak/memprediksi customer yang akan pergi."
      ]
    },
    {
      "cell_type": "code",
      "metadata": {
        "id": "d93FGfHhmJEf",
        "colab_type": "code",
        "colab": {}
      },
      "source": [
        "#menentukan feature dan label\n",
        "x = df_clean.drop(['Churn', 'customerID'], axis = 1)\n",
        "y = df_clean['Churn']"
      ],
      "execution_count": null,
      "outputs": []
    },
    {
      "cell_type": "code",
      "metadata": {
        "id": "LfnKrUp9mLh6",
        "colab_type": "code",
        "colab": {}
      },
      "source": [
        "from sklearn.model_selection import train_test_split\n",
        "x_train, x_test, y_train, y_test = train_test_split(x, y, random_state = 22, test_size = 0.3)"
      ],
      "execution_count": null,
      "outputs": []
    },
    {
      "cell_type": "markdown",
      "metadata": {
        "id": "TKIp2NaXgtP7",
        "colab_type": "text"
      },
      "source": [
        "## Model 1: Logistic Regression"
      ]
    },
    {
      "cell_type": "code",
      "metadata": {
        "id": "YxtPc5j0gx1H",
        "colab_type": "code",
        "colab": {
          "base_uri": "https://localhost:8080/",
          "height": 176
        },
        "outputId": "e0eca017-e098-4320-978c-45d4b650c996"
      },
      "source": [
        "from sklearn.linear_model import LogisticRegression\n",
        "logreg = LogisticRegression()\n",
        "logreg.fit(x_train, y_train)\n",
        "predict = logreg.predict(x_test)"
      ],
      "execution_count": null,
      "outputs": [
        {
          "output_type": "stream",
          "text": [
            "/usr/local/lib/python3.6/dist-packages/sklearn/linear_model/_logistic.py:940: ConvergenceWarning: lbfgs failed to converge (status=1):\n",
            "STOP: TOTAL NO. of ITERATIONS REACHED LIMIT.\n",
            "\n",
            "Increase the number of iterations (max_iter) or scale the data as shown in:\n",
            "    https://scikit-learn.org/stable/modules/preprocessing.html\n",
            "Please also refer to the documentation for alternative solver options:\n",
            "    https://scikit-learn.org/stable/modules/linear_model.html#logistic-regression\n",
            "  extra_warning_msg=_LOGISTIC_SOLVER_CONVERGENCE_MSG)\n"
          ],
          "name": "stderr"
        }
      ]
    },
    {
      "cell_type": "code",
      "metadata": {
        "id": "W-aA7tozhWEl",
        "colab_type": "code",
        "colab": {
          "base_uri": "https://localhost:8080/",
          "height": 225
        },
        "outputId": "12f0a356-1cd7-432f-e932-65472975ae0d"
      },
      "source": [
        "from sklearn.metrics import classification_report, confusion_matrix, recall_score, accuracy_score\n",
        "print(classification_report(y_test, predict))\n",
        "print('----------------------------------------------------------')\n",
        "print(confusion_matrix(y_test, predict))"
      ],
      "execution_count": null,
      "outputs": [
        {
          "output_type": "stream",
          "text": [
            "              precision    recall  f1-score   support\n",
            "\n",
            "           0       0.84      0.91      0.87      1558\n",
            "           1       0.66      0.50      0.57       552\n",
            "\n",
            "    accuracy                           0.80      2110\n",
            "   macro avg       0.75      0.70      0.72      2110\n",
            "weighted avg       0.79      0.80      0.79      2110\n",
            "\n",
            "----------------------------------------------------------\n",
            "[[1415  143]\n",
            " [ 276  276]]\n"
          ],
          "name": "stdout"
        }
      ]
    },
    {
      "cell_type": "code",
      "metadata": {
        "id": "2I4X9REzkPRB",
        "colab_type": "code",
        "colab": {}
      },
      "source": [
        "predict_train = logreg.predict(x_train)"
      ],
      "execution_count": null,
      "outputs": []
    },
    {
      "cell_type": "code",
      "metadata": {
        "id": "ed4DJgAAkZIq",
        "colab_type": "code",
        "colab": {
          "base_uri": "https://localhost:8080/",
          "height": 225
        },
        "outputId": "aa3507c8-d794-4824-88ea-780d1a1ce63d"
      },
      "source": [
        "print(classification_report(y_train, predict_train))\n",
        "print('----------------------------------------------------------')\n",
        "print(confusion_matrix(y_train, predict_train))"
      ],
      "execution_count": null,
      "outputs": [
        {
          "output_type": "stream",
          "text": [
            "              precision    recall  f1-score   support\n",
            "\n",
            "           0       0.85      0.90      0.87      3605\n",
            "           1       0.68      0.55      0.61      1317\n",
            "\n",
            "    accuracy                           0.81      4922\n",
            "   macro avg       0.76      0.73      0.74      4922\n",
            "weighted avg       0.80      0.81      0.80      4922\n",
            "\n",
            "----------------------------------------------------------\n",
            "[[3259  346]\n",
            " [ 595  722]]\n"
          ],
          "name": "stdout"
        }
      ]
    },
    {
      "cell_type": "code",
      "metadata": {
        "id": "OZ4A35_SjQSW",
        "colab_type": "code",
        "colab": {}
      },
      "source": [
        "logreg_recall = recall_score(y_test, predict)\n",
        "logreg_accuracy_test = accuracy_score(y_test, predict)\n",
        "logreg_accuracy_train = accuracy_score(y_train, predict_train)"
      ],
      "execution_count": null,
      "outputs": []
    },
    {
      "cell_type": "markdown",
      "metadata": {
        "colab_type": "text",
        "id": "liqht-R2kwC3"
      },
      "source": [
        "## Model 2: Random Forest"
      ]
    },
    {
      "cell_type": "code",
      "metadata": {
        "colab_type": "code",
        "id": "_aaAGXK3kwC6",
        "colab": {}
      },
      "source": [
        "from sklearn.ensemble import RandomForestClassifier\n",
        "rfc = RandomForestClassifier()\n",
        "rfc.fit(x_train, y_train)\n",
        "predict = rfc.predict(x_test)"
      ],
      "execution_count": null,
      "outputs": []
    },
    {
      "cell_type": "code",
      "metadata": {
        "colab_type": "code",
        "id": "gPiQmx7DkwDE",
        "colab": {
          "base_uri": "https://localhost:8080/",
          "height": 225
        },
        "outputId": "ce75b4ff-34d8-48e5-9efb-08c6e15887a2"
      },
      "source": [
        "print(classification_report(y_test, predict))\n",
        "print('----------------------------------------------------------')\n",
        "print(confusion_matrix(y_test, predict))"
      ],
      "execution_count": null,
      "outputs": [
        {
          "output_type": "stream",
          "text": [
            "              precision    recall  f1-score   support\n",
            "\n",
            "           0       0.84      0.91      0.87      1558\n",
            "           1       0.66      0.49      0.56       552\n",
            "\n",
            "    accuracy                           0.80      2110\n",
            "   macro avg       0.75      0.70      0.72      2110\n",
            "weighted avg       0.79      0.80      0.79      2110\n",
            "\n",
            "----------------------------------------------------------\n",
            "[[1417  141]\n",
            " [ 280  272]]\n"
          ],
          "name": "stdout"
        }
      ]
    },
    {
      "cell_type": "code",
      "metadata": {
        "colab_type": "code",
        "id": "fOAGavEAkwDN",
        "colab": {}
      },
      "source": [
        "predict_train = rfc.predict(x_train)"
      ],
      "execution_count": null,
      "outputs": []
    },
    {
      "cell_type": "code",
      "metadata": {
        "colab_type": "code",
        "id": "qMlNzONkkwDW",
        "colab": {
          "base_uri": "https://localhost:8080/",
          "height": 225
        },
        "outputId": "c37c695f-e3a3-4ffc-f28e-3941d8850565"
      },
      "source": [
        "print(classification_report(y_train, predict_train))\n",
        "print('----------------------------------------------------------')\n",
        "print(confusion_matrix(y_train, predict_train))"
      ],
      "execution_count": null,
      "outputs": [
        {
          "output_type": "stream",
          "text": [
            "              precision    recall  f1-score   support\n",
            "\n",
            "           0       1.00      1.00      1.00      3605\n",
            "           1       1.00      1.00      1.00      1317\n",
            "\n",
            "    accuracy                           1.00      4922\n",
            "   macro avg       1.00      1.00      1.00      4922\n",
            "weighted avg       1.00      1.00      1.00      4922\n",
            "\n",
            "----------------------------------------------------------\n",
            "[[3600    5]\n",
            " [   4 1313]]\n"
          ],
          "name": "stdout"
        }
      ]
    },
    {
      "cell_type": "code",
      "metadata": {
        "colab_type": "code",
        "id": "2r9wOj72kwDi",
        "colab": {}
      },
      "source": [
        "rfc_recall = recall_score(y_test, predict)\n",
        "rfc_accuracy_test = accuracy_score(y_test, predict)\n",
        "rfc_accuracy_train = accuracy_score(y_train, predict_train)"
      ],
      "execution_count": null,
      "outputs": []
    },
    {
      "cell_type": "markdown",
      "metadata": {
        "id": "4Q-uRj74lP2F",
        "colab_type": "text"
      },
      "source": [
        "## Model 3: Gradient Boosting"
      ]
    },
    {
      "cell_type": "code",
      "metadata": {
        "colab_type": "code",
        "id": "y-D2T3pAlOpq",
        "colab": {}
      },
      "source": [
        "from sklearn.ensemble import GradientBoostingClassifier\n",
        "gboost = GradientBoostingClassifier()\n",
        "gboost.fit(x_train, y_train)\n",
        "predict = gboost.predict(x_test)"
      ],
      "execution_count": null,
      "outputs": []
    },
    {
      "cell_type": "code",
      "metadata": {
        "colab_type": "code",
        "id": "xffLeH1ulOpz",
        "colab": {
          "base_uri": "https://localhost:8080/",
          "height": 225
        },
        "outputId": "807aa103-feb9-4fcd-fb8c-362d32ab9a1a"
      },
      "source": [
        "print(classification_report(y_test, predict))\n",
        "print('----------------------------------------------------------')\n",
        "print(confusion_matrix(y_test, predict))"
      ],
      "execution_count": null,
      "outputs": [
        {
          "output_type": "stream",
          "text": [
            "              precision    recall  f1-score   support\n",
            "\n",
            "           0       0.84      0.91      0.87      1558\n",
            "           1       0.67      0.49      0.57       552\n",
            "\n",
            "    accuracy                           0.80      2110\n",
            "   macro avg       0.75      0.70      0.72      2110\n",
            "weighted avg       0.79      0.80      0.79      2110\n",
            "\n",
            "----------------------------------------------------------\n",
            "[[1423  135]\n",
            " [ 280  272]]\n"
          ],
          "name": "stdout"
        }
      ]
    },
    {
      "cell_type": "code",
      "metadata": {
        "colab_type": "code",
        "id": "UvFBBiA3lOqE",
        "colab": {}
      },
      "source": [
        "predict_train = gboost.predict(x_train)"
      ],
      "execution_count": null,
      "outputs": []
    },
    {
      "cell_type": "code",
      "metadata": {
        "colab_type": "code",
        "id": "oLJZTZRFlOqM",
        "colab": {
          "base_uri": "https://localhost:8080/",
          "height": 225
        },
        "outputId": "5f5a64fc-9ea2-44ea-9851-d26761de848d"
      },
      "source": [
        "print(classification_report(y_train, predict_train))\n",
        "print('----------------------------------------------------------')\n",
        "print(confusion_matrix(y_train, predict_train))"
      ],
      "execution_count": null,
      "outputs": [
        {
          "output_type": "stream",
          "text": [
            "              precision    recall  f1-score   support\n",
            "\n",
            "           0       0.86      0.92      0.89      3605\n",
            "           1       0.73      0.58      0.65      1317\n",
            "\n",
            "    accuracy                           0.83      4922\n",
            "   macro avg       0.80      0.75      0.77      4922\n",
            "weighted avg       0.82      0.83      0.82      4922\n",
            "\n",
            "----------------------------------------------------------\n",
            "[[3329  276]\n",
            " [ 554  763]]\n"
          ],
          "name": "stdout"
        }
      ]
    },
    {
      "cell_type": "code",
      "metadata": {
        "colab_type": "code",
        "id": "75Z1p73plOqT",
        "colab": {}
      },
      "source": [
        "gboost_recall = recall_score(y_test, predict)\n",
        "gboost_accuracy_test = accuracy_score(y_test, predict)\n",
        "gboost_accuracy_train = accuracy_score(y_train, predict_train)"
      ],
      "execution_count": null,
      "outputs": []
    },
    {
      "cell_type": "markdown",
      "metadata": {
        "colab_type": "text",
        "id": "rvNGaU8tlwho"
      },
      "source": [
        "## Model 4: DecisionTree"
      ]
    },
    {
      "cell_type": "code",
      "metadata": {
        "colab_type": "code",
        "id": "Dgl0Uhcnlwhp",
        "colab": {}
      },
      "source": [
        "from sklearn.tree import DecisionTreeClassifier\n",
        "dtree = DecisionTreeClassifier()\n",
        "dtree.fit(x_train, y_train)\n",
        "predict = dtree.predict(x_test)"
      ],
      "execution_count": null,
      "outputs": []
    },
    {
      "cell_type": "code",
      "metadata": {
        "colab_type": "code",
        "id": "QrSFGzm0lwhs",
        "colab": {
          "base_uri": "https://localhost:8080/",
          "height": 225
        },
        "outputId": "4e402395-5d84-42a0-eca8-1480185540ec"
      },
      "source": [
        "print(classification_report(y_test, predict))\n",
        "print('----------------------------------------------------------')\n",
        "print(confusion_matrix(y_test, predict))"
      ],
      "execution_count": null,
      "outputs": [
        {
          "output_type": "stream",
          "text": [
            "              precision    recall  f1-score   support\n",
            "\n",
            "           0       0.83      0.82      0.83      1558\n",
            "           1       0.51      0.53      0.52       552\n",
            "\n",
            "    accuracy                           0.74      2110\n",
            "   macro avg       0.67      0.67      0.67      2110\n",
            "weighted avg       0.75      0.74      0.75      2110\n",
            "\n",
            "----------------------------------------------------------\n",
            "[[1279  279]\n",
            " [ 260  292]]\n"
          ],
          "name": "stdout"
        }
      ]
    },
    {
      "cell_type": "code",
      "metadata": {
        "colab_type": "code",
        "id": "3x4pHQm2lwhy",
        "colab": {}
      },
      "source": [
        "predict_train = dtree.predict(x_train)"
      ],
      "execution_count": null,
      "outputs": []
    },
    {
      "cell_type": "code",
      "metadata": {
        "colab_type": "code",
        "id": "mD5H_JYKlwh0",
        "colab": {
          "base_uri": "https://localhost:8080/",
          "height": 225
        },
        "outputId": "10355895-7bfc-4983-dfb7-34c5c0c84dde"
      },
      "source": [
        "print(classification_report(y_train, predict_train))\n",
        "print('----------------------------------------------------------')\n",
        "print(confusion_matrix(y_train, predict_train))"
      ],
      "execution_count": null,
      "outputs": [
        {
          "output_type": "stream",
          "text": [
            "              precision    recall  f1-score   support\n",
            "\n",
            "           0       1.00      1.00      1.00      3605\n",
            "           1       1.00      0.99      1.00      1317\n",
            "\n",
            "    accuracy                           1.00      4922\n",
            "   macro avg       1.00      1.00      1.00      4922\n",
            "weighted avg       1.00      1.00      1.00      4922\n",
            "\n",
            "----------------------------------------------------------\n",
            "[[3604    1]\n",
            " [   8 1309]]\n"
          ],
          "name": "stdout"
        }
      ]
    },
    {
      "cell_type": "code",
      "metadata": {
        "colab_type": "code",
        "id": "kdBTYuwHlwh3",
        "colab": {}
      },
      "source": [
        "dtree_recall = recall_score(y_test, predict)\n",
        "dtree_accuracy_test = accuracy_score(y_test, predict)\n",
        "dtree_accuracy_train = accuracy_score(y_train, predict_train)"
      ],
      "execution_count": null,
      "outputs": []
    },
    {
      "cell_type": "markdown",
      "metadata": {
        "id": "TNfruFK-mFj7",
        "colab_type": "text"
      },
      "source": [
        "## SUMMARY"
      ]
    },
    {
      "cell_type": "code",
      "metadata": {
        "id": "k847-uhamEno",
        "colab_type": "code",
        "colab": {
          "base_uri": "https://localhost:8080/",
          "height": 172
        },
        "outputId": "3b453289-4a21-4eea-a7fc-69b8f48ab097"
      },
      "source": [
        "summary1 = pd.DataFrame({'Recall': [logreg_recall, rfc_recall, gboost_recall, dtree_recall],\n",
        "                        'Train Accuracy': [logreg_accuracy_train, rfc_accuracy_train, gboost_accuracy_train, dtree_accuracy_train],\n",
        "                        'Test Accuracy': [logreg_accuracy_test, rfc_accuracy_test, gboost_accuracy_test, dtree_accuracy_test]}, \n",
        "                        index = ['Logistic Regression', 'Random Forest', 'Gradient Boosting', 'Decision Tree'])\n",
        "summary1"
      ],
      "execution_count": null,
      "outputs": [
        {
          "output_type": "execute_result",
          "data": {
            "text/html": [
              "<div>\n",
              "<style scoped>\n",
              "    .dataframe tbody tr th:only-of-type {\n",
              "        vertical-align: middle;\n",
              "    }\n",
              "\n",
              "    .dataframe tbody tr th {\n",
              "        vertical-align: top;\n",
              "    }\n",
              "\n",
              "    .dataframe thead th {\n",
              "        text-align: right;\n",
              "    }\n",
              "</style>\n",
              "<table border=\"1\" class=\"dataframe\">\n",
              "  <thead>\n",
              "    <tr style=\"text-align: right;\">\n",
              "      <th></th>\n",
              "      <th>Recall</th>\n",
              "      <th>Train Accuracy</th>\n",
              "      <th>Test Accuracy</th>\n",
              "    </tr>\n",
              "  </thead>\n",
              "  <tbody>\n",
              "    <tr>\n",
              "      <th>Logistic Regression</th>\n",
              "      <td>0.500000</td>\n",
              "      <td>0.808818</td>\n",
              "      <td>0.801422</td>\n",
              "    </tr>\n",
              "    <tr>\n",
              "      <th>Random Forest</th>\n",
              "      <td>0.492754</td>\n",
              "      <td>0.998171</td>\n",
              "      <td>0.800474</td>\n",
              "    </tr>\n",
              "    <tr>\n",
              "      <th>Gradient Boosting</th>\n",
              "      <td>0.492754</td>\n",
              "      <td>0.831369</td>\n",
              "      <td>0.803318</td>\n",
              "    </tr>\n",
              "    <tr>\n",
              "      <th>Decision Tree</th>\n",
              "      <td>0.528986</td>\n",
              "      <td>0.998171</td>\n",
              "      <td>0.744550</td>\n",
              "    </tr>\n",
              "  </tbody>\n",
              "</table>\n",
              "</div>"
            ],
            "text/plain": [
              "                       Recall  Train Accuracy  Test Accuracy\n",
              "Logistic Regression  0.500000        0.808818       0.801422\n",
              "Random Forest        0.492754        0.998171       0.800474\n",
              "Gradient Boosting    0.492754        0.831369       0.803318\n",
              "Decision Tree        0.528986        0.998171       0.744550"
            ]
          },
          "metadata": {
            "tags": []
          },
          "execution_count": 246
        }
      ]
    },
    {
      "cell_type": "markdown",
      "metadata": {
        "id": "DP73735zotIu",
        "colab_type": "text"
      },
      "source": [
        "**Conc:**\n",
        "1. Random Forest & DecisionTree overfitting"
      ]
    },
    {
      "cell_type": "markdown",
      "metadata": {
        "id": "AHJBx8LNmL82",
        "colab_type": "text"
      },
      "source": [
        "#Q4: Perbaikan Model (30 point)\n",
        "\n",
        "## Pada question 4 ini, perbaiki model yang sudah kalian buat pada Q3 di atas.\n",
        "## Clue: Bisa dilakukan:\n",
        "##- hyperparameter tuning\n",
        "##- memasukkan hanya feature yang paling penting ke dalam model (feature importance)\n",
        "##- check imbalanced target\n",
        "##- scaling\n",
        "##- encoding\n",
        "\n",
        "#HAPPY TUNING :)"
      ]
    },
    {
      "cell_type": "code",
      "metadata": {
        "id": "oZ72vj9pfH3T",
        "colab_type": "code",
        "colab": {
          "base_uri": "https://localhost:8080/",
          "height": 104
        },
        "outputId": "22c2fbc8-281f-4fc0-ed23-a3223745ebb7"
      },
      "source": [
        "# check apakah data balance atau tidak\n",
        "print(y.value_counts())\n",
        "print('--------------')\n",
        "print(y.value_counts().min()/y.value_counts().max()*100)"
      ],
      "execution_count": null,
      "outputs": [
        {
          "output_type": "stream",
          "text": [
            "0    5163\n",
            "1    1869\n",
            "Name: Churn, dtype: int64\n",
            "--------------\n",
            "36.199883788495065\n"
          ],
          "name": "stdout"
        }
      ]
    },
    {
      "cell_type": "code",
      "metadata": {
        "id": "nfV4u5FAm3Iz",
        "colab_type": "code",
        "colab": {}
      },
      "source": [
        ""
      ],
      "execution_count": null,
      "outputs": []
    }
  ]
}